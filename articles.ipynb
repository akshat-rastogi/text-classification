{
 "cells": [
  {
   "cell_type": "markdown",
   "metadata": {},
   "source": [
    "# Text Classification"
   ]
  },
  {
   "cell_type": "markdown",
   "metadata": {},
   "source": [
    "## Problem Statement\n",
    "Scrape a corpus of news articles from a set of web pages, pre-process the corpus, and evaluate the performance of automated classification of these articles in a supervised learning context."
   ]
  },
  {
   "cell_type": "markdown",
   "metadata": {},
   "source": [
    "### Pre-requisites"
   ]
  },
  {
   "cell_type": "markdown",
   "metadata": {},
   "source": [
    "### <font color='red'>News Archive:</font>\n",
    "\n",
    "- A News Archive Wesite has been used to retrieve web pages. \n",
    "- <b>URL</b>: https://news-articles.herokuapp.com/archive/index.html"
   ]
  },
  {
   "cell_type": "markdown",
   "metadata": {},
   "source": [
    "### <font color='red'>Pre Installations:</font> \n",
    "\n",
    "- pip install nltk\n",
    "- pip install seaborn\n",
    "- python -m pip install wordcloud-1.4.1-cp36-cp36m-win_amd64.whl <br> wheel file required for installing wordcloud(file provided), version may differ for different machines"
   ]
  },
  {
   "cell_type": "markdown",
   "metadata": {},
   "source": [
    "### <font color='red'> Import Librabies required</font>"
   ]
  },
  {
   "cell_type": "code",
   "execution_count": 1,
   "metadata": {
    "collapsed": true
   },
   "outputs": [],
   "source": [
    "from IPython.display import display\n",
    "%matplotlib inline\n",
    "\n",
    "from pandas.io.json import json_normalize\n",
    "import urllib.request\n",
    "import json\n",
    "import time\n",
    "import os\n",
    "\n",
    "import numpy as np\n",
    "import pandas as pd\n",
    "\n",
    "from sklearn.feature_extraction import text\n",
    "from sklearn.feature_selection import chi2\n",
    "from sklearn.feature_extraction.text import TfidfVectorizer, CountVectorizer\n",
    "from sklearn.metrics.pairwise import cosine_similarity\n",
    "import nltk\n",
    "from sklearn.metrics import *\n",
    "from sklearn.model_selection import cross_val_score\n",
    "from sklearn.feature_selection import SelectFromModel\n",
    "\n",
    "from wordcloud import WordCloud\n",
    "import matplotlib\n",
    "import matplotlib.pyplot as plt\n",
    "import seaborn as sns"
   ]
  },
  {
   "cell_type": "markdown",
   "metadata": {},
   "source": [
    "## 1. Part 1 - Data Collection"
   ]
  },
  {
   "cell_type": "markdown",
   "metadata": {},
   "source": [
    "### <font color='red'>1.1. URL Identification :</font>\n",
    "   \n",
    "The articles and their labels are collected in two steps:\n",
    "- <b>Step 1:</b> Parse the index page to get list URLs for Monthly Data.\n",
    "- <b>Step 2:</b> Parse the URL for Month page to get the list of articles and their category labels."
   ]
  },
  {
   "cell_type": "markdown",
   "metadata": {},
   "source": [
    "### <font color='blue'>Creating Classes to Retrieve Data:</font> "
   ]
  },
  {
   "cell_type": "markdown",
   "metadata": {},
   "source": [
    "#### <u>Class 1: NewsArchive</u>  -  News Archive Class to get data from URL\n",
    "\n",
    "##### (Custom Class Used Later)"
   ]
  },
  {
   "cell_type": "code",
   "execution_count": 2,
   "metadata": {
    "collapsed": true
   },
   "outputs": [],
   "source": [
    "class NewsArchive:\n",
    "    \n",
    "    def __init__(self):\n",
    "        '''\n",
    "        To initialize News repository source URL \n",
    "        Create Required Data Folders to store articles and category information\n",
    "        ''' \n",
    "        os.makedirs(os.getcwd() + \"/data\", exist_ok=True)            # Create ./data for storing articles and categories csv\n",
    "        os.makedirs(os.getcwd() + \"/data/articles\", exist_ok=True)   # Create ./data/articles for storing articles\n",
    "        self.__sourceUrl = \"https://news-articles.herokuapp.com/archive/\"  \n",
    "    \n",
    "    \n",
    "    def request_html(self, page_name=\"index\"):\n",
    "        '''\n",
    "        Parameters: page_name (url part of the page without \".html\" and default as \"index\")\n",
    "        Return: HTML\n",
    "        --------\n",
    "        To request data from a URL though HTTP request\n",
    "        '''\n",
    "        url = self.__sourceUrl + page_name+\".html\"\n",
    "        try:\n",
    "            response = urllib.request.urlopen(url)                     # Hit URL: url\n",
    "            raw_html = response.read().decode()                        # Decode response                  \n",
    "            return raw_html                                            # return raw html\n",
    "        except Exception as h:\n",
    "            print(\"Cannot find data at given URL\\nError:\"+str(h))      \n",
    "            return \"\"                                                   "
   ]
  },
  {
   "cell_type": "markdown",
   "metadata": {},
   "source": [
    "#### <u>Class 2: ParseData</u>  -  Parse Data Class to parse HTML pages\n",
    "\n",
    "##### (Custom Class Used Later)"
   ]
  },
  {
   "cell_type": "code",
   "execution_count": 3,
   "metadata": {
    "collapsed": true
   },
   "outputs": [],
   "source": [
    "from bs4 import BeautifulSoup\n",
    "\n",
    "class ParseData:\n",
    "\n",
    "    def parse_index_page(self, html):\n",
    "        '''\n",
    "        Parameters: html content\n",
    "        Return: Dictionary with month names and corrosponding urls\n",
    "        --------\n",
    "        Method to parse index html content to get URLs for monthly data URLs\n",
    "        '''\n",
    "        parsed_html = BeautifulSoup(html,\"html.parser\")\n",
    "\n",
    "        month_dict={}\n",
    "        div = parsed_html.body.find_all(\"div\", {\"class\":\"main\"})\n",
    "        for ul in div:\n",
    "            for li in ul.find_all(\"li\"):\n",
    "                for a in li.find_all('a'):\n",
    "                    month_dict[a.string] = a['href'].replace(\".html\",\"\")\n",
    "\n",
    "        return month_dict\n",
    "\n",
    "    \n",
    "    def parse_month_pages(self, html, month):    \n",
    "        '''\n",
    "        Parameters: html content, month name\n",
    "        Return: Acticles list\n",
    "        --------\n",
    "        Method to parse URL for Monthly List of articles content to get articles data\n",
    "        '''\n",
    "        parsed_html = BeautifulSoup(html,\"html.parser\")\n",
    "        \n",
    "        article_list=[]\n",
    "        div = parsed_html.body.find_all(\"div\", {\"class\":\"main\"})\n",
    "        for table in div:\n",
    "            for tr in table.find_all(\"tr\"):\n",
    "                article_dict={}\n",
    "                for td in tr.find_all('td', {\"class\":\"category\"}):\n",
    "                    article_dict['category'] = td.string.replace(u'\\xa0', u'')\n",
    "                for td in tr.find_all('td', {\"class\":\"title\"}):    \n",
    "                    for a in td.find_all('a'):\n",
    "                        article_dict['id'] = a['href'].rstrip(\".html\")\n",
    "                        article_dict['name'] = a.string\n",
    "                    article_list.append(article_dict)\n",
    "        return article_list    \n",
    "    \n",
    "    \n",
    "    def parse_article(self,html):\n",
    "        '''\n",
    "        Parameters: html content\n",
    "        Return: Parsed Acticle heading and paragraphs in String format\n",
    "        --------\n",
    "        Method to parse URL to get articles data\n",
    "        '''\n",
    "        parsed_html = BeautifulSoup(html,\"html.parser\")\n",
    "        \n",
    "        article_data = \" \"\n",
    "\n",
    "        # Add heading to article data\n",
    "        for heading in parsed_html.body.find_all(\"h2\"):\n",
    "            article_data = heading.getText() + article_data\n",
    "            \n",
    "        # To get text from p tags\n",
    "        for data in parsed_html.body.find_all(\"p\", attrs={'class': None}):\n",
    "            text = data.getText()\n",
    "            if[len(text)!=0]:\n",
    "                article_data = article_data + text\n",
    "        return article_data"
   ]
  },
  {
   "cell_type": "markdown",
   "metadata": {},
   "source": [
    "Creating objects of the classes so that their functions for retreiving, storing and parsing the data can be applied "
   ]
  },
  {
   "cell_type": "code",
   "execution_count": 4,
   "metadata": {
    "collapsed": true
   },
   "outputs": [],
   "source": [
    "# Creating objects of classes to use them further\n",
    "newsArchive = NewsArchive()\n",
    "parse = ParseData()"
   ]
  },
  {
   "cell_type": "markdown",
   "metadata": {},
   "source": [
    "#### Parse main page and montly pages to get categories along with article id\n",
    "\n",
    "Once we have all the data we can clean the dataframe by removing entries for which category labels or article URL are not present.(Articles which are no longer available)  \n",
    "\n",
    "##### (Using the Custom Classes)"
   ]
  },
  {
   "cell_type": "code",
   "execution_count": 5,
   "metadata": {
    "collapsed": true
   },
   "outputs": [],
   "source": [
    "# First Level Parsing:- Index Page    \n",
    "indexHTML = newsArchive.request_html()\n",
    "\n",
    "# Second Level Parsing:- Monthly Pages\n",
    "month_data = parse.parse_index_page(indexHTML)\n",
    "\n",
    "# Creating categories-articles dataframe\n",
    "df = pd.DataFrame([])\n",
    "for key, value in month_data.items():\n",
    "    html = newsArchive.request_html(value)\n",
    "    month_data = parse.parse_month_pages(html, key)\n",
    "    df = df.append(pd.read_json(json.dumps(month_data)))\n",
    "\n",
    "df.reset_index(drop=True, inplace=True)    "
   ]
  },
  {
   "cell_type": "code",
   "execution_count": 6,
   "metadata": {},
   "outputs": [
    {
     "data": {
      "text/html": [
       "<div>\n",
       "<style>\n",
       "    .dataframe thead tr:only-child th {\n",
       "        text-align: right;\n",
       "    }\n",
       "\n",
       "    .dataframe thead th {\n",
       "        text-align: left;\n",
       "    }\n",
       "\n",
       "    .dataframe tbody tr th {\n",
       "        vertical-align: top;\n",
       "    }\n",
       "</style>\n",
       "<table border=\"1\" class=\"dataframe\">\n",
       "  <thead>\n",
       "    <tr style=\"text-align: right;\">\n",
       "      <th></th>\n",
       "      <th>category</th>\n",
       "      <th>id</th>\n",
       "      <th>name</th>\n",
       "    </tr>\n",
       "  </thead>\n",
       "  <tbody>\n",
       "    <tr>\n",
       "      <th>0</th>\n",
       "      <td>technology</td>\n",
       "      <td>article-jan-0418</td>\n",
       "      <td>21st-Century Sports: How Digital Technology Is...</td>\n",
       "    </tr>\n",
       "    <tr>\n",
       "      <th>1</th>\n",
       "      <td>business</td>\n",
       "      <td>article-jan-0027</td>\n",
       "      <td>Asian quake hits European shares</td>\n",
       "    </tr>\n",
       "    <tr>\n",
       "      <th>2</th>\n",
       "      <td>technology</td>\n",
       "      <td>article-jan-0631</td>\n",
       "      <td>BT offers free net phone calls</td>\n",
       "    </tr>\n",
       "    <tr>\n",
       "      <th>3</th>\n",
       "      <td>business</td>\n",
       "      <td>article-jan-2105</td>\n",
       "      <td>Barclays shares up on merger talk</td>\n",
       "    </tr>\n",
       "    <tr>\n",
       "      <th>4</th>\n",
       "      <td>sport</td>\n",
       "      <td>article-jan-3300</td>\n",
       "      <td>Barkley fit for match in Ireland</td>\n",
       "    </tr>\n",
       "  </tbody>\n",
       "</table>\n",
       "</div>"
      ],
      "text/plain": [
       "     category                id  \\\n",
       "0  technology  article-jan-0418   \n",
       "1    business  article-jan-0027   \n",
       "2  technology  article-jan-0631   \n",
       "3    business  article-jan-2105   \n",
       "4       sport  article-jan-3300   \n",
       "\n",
       "                                                name  \n",
       "0  21st-Century Sports: How Digital Technology Is...  \n",
       "1                   Asian quake hits European shares  \n",
       "2                     BT offers free net phone calls  \n",
       "3                  Barclays shares up on merger talk  \n",
       "4                   Barkley fit for match in Ireland  "
      ]
     },
     "metadata": {},
     "output_type": "display_data"
    }
   ],
   "source": [
    "display(df[0:5])"
   ]
  },
  {
   "cell_type": "markdown",
   "metadata": {},
   "source": [
    "#### Clean Category Articles Data"
   ]
  },
  {
   "cell_type": "markdown",
   "metadata": {},
   "source": [
    "Check how many records in category dataframe are null and remove those records"
   ]
  },
  {
   "cell_type": "code",
   "execution_count": 7,
   "metadata": {},
   "outputs": [
    {
     "name": "stdout",
     "output_type": "stream",
     "text": [
      "category    False\n",
      "id           True\n",
      "name         True\n",
      "dtype: bool\n",
      "\n",
      "Total Null Valued Records: 53\n",
      "\n",
      "Number of records with N/A or NaN Values: 1461\n",
      "\n",
      "Number of records with clean values: 1408\n"
     ]
    }
   ],
   "source": [
    "# Find if any Null values in the records\n",
    "print(df.isnull().any())\n",
    "\n",
    "# Check number of records that are null in the dataset\n",
    "print(\"\\nTotal Null Valued Records: \" + str(df.isnull().T.any().T.sum()))\n",
    "print(\"\\nNumber of records with N/A or NaN Values:\", len(df))\n",
    "df = df.dropna() \n",
    "print(\"\\nNumber of records with clean values:\", len(df))"
   ]
  },
  {
   "cell_type": "markdown",
   "metadata": {},
   "source": [
    "#### Once the dataframe for category and articles is clean, it can be used further to download articles"
   ]
  },
  {
   "cell_type": "code",
   "execution_count": 8,
   "metadata": {},
   "outputs": [
    {
     "data": {
      "text/html": [
       "<div>\n",
       "<style>\n",
       "    .dataframe thead tr:only-child th {\n",
       "        text-align: right;\n",
       "    }\n",
       "\n",
       "    .dataframe thead th {\n",
       "        text-align: left;\n",
       "    }\n",
       "\n",
       "    .dataframe tbody tr th {\n",
       "        vertical-align: top;\n",
       "    }\n",
       "</style>\n",
       "<table border=\"1\" class=\"dataframe\">\n",
       "  <thead>\n",
       "    <tr style=\"text-align: right;\">\n",
       "      <th></th>\n",
       "      <th>category</th>\n",
       "      <th>id</th>\n",
       "      <th>name</th>\n",
       "    </tr>\n",
       "  </thead>\n",
       "  <tbody>\n",
       "    <tr>\n",
       "      <th>1403</th>\n",
       "      <td>sport</td>\n",
       "      <td>article-dec-2238</td>\n",
       "      <td>Woodward eyes Brennan for Lions</td>\n",
       "    </tr>\n",
       "    <tr>\n",
       "      <th>1404</th>\n",
       "      <td>business</td>\n",
       "      <td>article-dec-2334</td>\n",
       "      <td>WorldCom trial starts in New York</td>\n",
       "    </tr>\n",
       "    <tr>\n",
       "      <th>1405</th>\n",
       "      <td>business</td>\n",
       "      <td>article-dec-2095</td>\n",
       "      <td>Yukos accused of lying to court</td>\n",
       "    </tr>\n",
       "    <tr>\n",
       "      <th>1406</th>\n",
       "      <td>business</td>\n",
       "      <td>article-dec-1351</td>\n",
       "      <td>Yukos drops banks from court bid</td>\n",
       "    </tr>\n",
       "    <tr>\n",
       "      <th>1407</th>\n",
       "      <td>sport</td>\n",
       "      <td>article-dec-0068</td>\n",
       "      <td>Zambia confident and cautious</td>\n",
       "    </tr>\n",
       "  </tbody>\n",
       "</table>\n",
       "</div>"
      ],
      "text/plain": [
       "      category                id                               name\n",
       "1403     sport  article-dec-2238    Woodward eyes Brennan for Lions\n",
       "1404  business  article-dec-2334  WorldCom trial starts in New York\n",
       "1405  business  article-dec-2095    Yukos accused of lying to court\n",
       "1406  business  article-dec-1351   Yukos drops banks from court bid\n",
       "1407     sport  article-dec-0068      Zambia confident and cautious"
      ]
     },
     "metadata": {},
     "output_type": "display_data"
    }
   ],
   "source": [
    "df.reset_index(drop=True, inplace=True)  \n",
    "display(df[-5:])"
   ]
  },
  {
   "cell_type": "markdown",
   "metadata": {},
   "source": [
    "### <font id=\"api-name\" color='red'>1.2. Retrieve and Store Articles:</font> \n",
    "\n",
    "Retrieve all web pages corresponding to these article URLs. From the web pages, extract the main body text containing the content of each news article. Save the body of each article as plain text"
   ]
  },
  {
   "cell_type": "markdown",
   "metadata": {},
   "source": [
    "#### Save all the available articles in a folder using the custom function to get article id from dataframe, parse html and save it in a location"
   ]
  },
  {
   "cell_type": "code",
   "execution_count": 9,
   "metadata": {
    "collapsed": true
   },
   "outputs": [],
   "source": [
    "def store_articles(row):\n",
    "    '''\n",
    "    Parameters: A dataframe row with structure (category, id, name)\n",
    "    --------\n",
    "    Save the article in /data/articles/ folder (using the id from dataframe row) \n",
    "    '''\n",
    "    html = newsArchive.request_html(row['id'])\n",
    "    article = parse.parse_article(html)\n",
    "    # Write article to file \n",
    "    # exception handled if file locked by some other operation or could not write to file\n",
    "    try:\n",
    "        filename = os.getcwd() + \"/data/articles/\" + row['id'] + \".txt\"            \n",
    "        # open the file in write mode\n",
    "        f = open(filename, \"w\",encoding='utf-8')\n",
    "        f.write(article)\n",
    "        f.close()\n",
    "    except Exception as h:\n",
    "        print(\"Cannot write to file\\n\" + row['id'] +\" \\nError:\"+str(h))"
   ]
  },
  {
   "cell_type": "code",
   "execution_count": 10,
   "metadata": {
    "collapsed": true
   },
   "outputs": [],
   "source": [
    "_ = df.apply(store_articles, axis=1)"
   ]
  },
  {
   "cell_type": "code",
   "execution_count": 11,
   "metadata": {},
   "outputs": [
    {
     "name": "stdout",
     "output_type": "stream",
     "text": [
      "Samples Files in the directory ./data/articles/\n"
     ]
    },
    {
     "data": {
      "text/plain": [
       "['article-apr-0028.txt',\n",
       " 'article-apr-0039.txt',\n",
       " 'article-apr-0042.txt',\n",
       " 'article-apr-0061.txt',\n",
       " 'article-apr-0134.txt']"
      ]
     },
     "metadata": {},
     "output_type": "display_data"
    },
    {
     "name": "stdout",
     "output_type": "stream",
     "text": [
      "Total Files saved: 1408\n"
     ]
    }
   ],
   "source": [
    "files = os.listdir(os.getcwd() + \"/data/articles/\")\n",
    "print(\"Samples Files in the directory ./data/articles/\")\n",
    "display(files[:5])\n",
    "print(\"Total Files saved:\", len(files))"
   ]
  },
  {
   "cell_type": "markdown",
   "metadata": {},
   "source": [
    "### <font id=\"api-name\" color='red'>1.3. Retrieve and Save the category labels/targets for all articles in a separate file</font>"
   ]
  },
  {
   "cell_type": "markdown",
   "metadata": {},
   "source": [
    "#### We also need to save the target classes for each record in numrical form. \n",
    "##### (Factorizing Category Labels)"
   ]
  },
  {
   "cell_type": "code",
   "execution_count": 12,
   "metadata": {},
   "outputs": [
    {
     "data": {
      "text/html": [
       "<div>\n",
       "<style>\n",
       "    .dataframe thead tr:only-child th {\n",
       "        text-align: right;\n",
       "    }\n",
       "\n",
       "    .dataframe thead th {\n",
       "        text-align: left;\n",
       "    }\n",
       "\n",
       "    .dataframe tbody tr th {\n",
       "        vertical-align: top;\n",
       "    }\n",
       "</style>\n",
       "<table border=\"1\" class=\"dataframe\">\n",
       "  <thead>\n",
       "    <tr style=\"text-align: right;\">\n",
       "      <th></th>\n",
       "      <th>category</th>\n",
       "      <th>id</th>\n",
       "      <th>name</th>\n",
       "      <th>target</th>\n",
       "    </tr>\n",
       "  </thead>\n",
       "  <tbody>\n",
       "    <tr>\n",
       "      <th>0</th>\n",
       "      <td>technology</td>\n",
       "      <td>article-jan-0418</td>\n",
       "      <td>21st-Century Sports: How Digital Technology Is...</td>\n",
       "      <td>0</td>\n",
       "    </tr>\n",
       "    <tr>\n",
       "      <th>1</th>\n",
       "      <td>business</td>\n",
       "      <td>article-jan-0027</td>\n",
       "      <td>Asian quake hits European shares</td>\n",
       "      <td>1</td>\n",
       "    </tr>\n",
       "    <tr>\n",
       "      <th>2</th>\n",
       "      <td>technology</td>\n",
       "      <td>article-jan-0631</td>\n",
       "      <td>BT offers free net phone calls</td>\n",
       "      <td>0</td>\n",
       "    </tr>\n",
       "    <tr>\n",
       "      <th>3</th>\n",
       "      <td>business</td>\n",
       "      <td>article-jan-2105</td>\n",
       "      <td>Barclays shares up on merger talk</td>\n",
       "      <td>1</td>\n",
       "    </tr>\n",
       "    <tr>\n",
       "      <th>4</th>\n",
       "      <td>sport</td>\n",
       "      <td>article-jan-3300</td>\n",
       "      <td>Barkley fit for match in Ireland</td>\n",
       "      <td>2</td>\n",
       "    </tr>\n",
       "  </tbody>\n",
       "</table>\n",
       "</div>"
      ],
      "text/plain": [
       "     category                id  \\\n",
       "0  technology  article-jan-0418   \n",
       "1    business  article-jan-0027   \n",
       "2  technology  article-jan-0631   \n",
       "3    business  article-jan-2105   \n",
       "4       sport  article-jan-3300   \n",
       "\n",
       "                                                name  target  \n",
       "0  21st-Century Sports: How Digital Technology Is...       0  \n",
       "1                   Asian quake hits European shares       1  \n",
       "2                     BT offers free net phone calls       0  \n",
       "3                  Barclays shares up on merger talk       1  \n",
       "4                   Barkley fit for match in Ireland       2  "
      ]
     },
     "metadata": {},
     "output_type": "display_data"
    },
    {
     "name": "stdout",
     "output_type": "stream",
     "text": [
      "[0 1 0 ..., 1 1 2]\n",
      "Index(['technology', 'business', 'sport'], dtype='object')\n"
     ]
    }
   ],
   "source": [
    "# Assign numerical values to categories and save as target corrosponding to every article\n",
    "category_labels = pd.Series(df.category)\n",
    "\n",
    "target, labels = pd.factorize(category_labels)\n",
    "\n",
    "df['target'] = target\n",
    "\n",
    "display(df[0:5])\n",
    "\n",
    "# Factored List will be used as target class values\n",
    "print(target)\n",
    "\n",
    "# Labels Indexes will be used later to decipher the target name\n",
    "print(labels)"
   ]
  },
  {
   "cell_type": "markdown",
   "metadata": {},
   "source": [
    "#### Save the dataframe will numrical/factorized class labels in a csv file"
   ]
  },
  {
   "cell_type": "code",
   "execution_count": null,
   "metadata": {
    "collapsed": true
   },
   "outputs": [],
   "source": [
    "# Save Cleaned data for articles names and their Categories \n",
    "# exception handled if file locked by some other operation or could not write to file\n",
    "\n",
    "try:\n",
    "    filename = os.getcwd() + \"/data/category.csv\"\n",
    "    df.to_csv(filename, sep=',', encoding='utf-8')\n",
    "    print(\"Write to CSV:\\n\" + filename)\n",
    "except Exception as h:\n",
    "    print(\"Cannot write to file \\nError:\" + str(h))\n",
    "    "
   ]
  },
  {
   "cell_type": "markdown",
   "metadata": {},
   "source": [
    "## 2. Part 2 - Text Classification"
   ]
  },
  {
   "cell_type": "markdown",
   "metadata": {},
   "source": [
    "### <font color=\"red\">2.1. Loading Corpus in notebook</font>"
   ]
  },
  {
   "cell_type": "markdown",
   "metadata": {},
   "source": [
    "#### Check if all the articles have category labels\n",
    "\n",
    "<br><i><b>Kindly Note:</b> The dataframe for categories-arcticles was cleaned earlier but this step is just to ensure that correct records will be used for processing the articles.</i>"
   ]
  },
  {
   "cell_type": "code",
   "execution_count": 14,
   "metadata": {},
   "outputs": [
    {
     "name": "stdout",
     "output_type": "stream",
     "text": [
      "\n",
      "Total Null Valued Records: 0\n"
     ]
    }
   ],
   "source": [
    "# Check number of records that are null in the dataset\n",
    "print(\"\\nTotal Null Valued Records: \" + str(df.isnull().T.any().T.sum()))"
   ]
  },
  {
   "cell_type": "markdown",
   "metadata": {},
   "source": [
    "#### Get the list of articles from the dataframe"
   ]
  },
  {
   "cell_type": "code",
   "execution_count": 15,
   "metadata": {},
   "outputs": [
    {
     "data": {
      "text/plain": [
       "['article-jan-0418',\n",
       " 'article-jan-0027',\n",
       " 'article-jan-0631',\n",
       " 'article-jan-2105',\n",
       " 'article-jan-3300']"
      ]
     },
     "execution_count": 15,
     "metadata": {},
     "output_type": "execute_result"
    }
   ],
   "source": [
    "article_ids = df.id.tolist()\n",
    "article_ids[0:5]"
   ]
  },
  {
   "cell_type": "markdown",
   "metadata": {},
   "source": [
    "#### Load the set of raw documents using list of articles (Reading already parsed and saved articles)"
   ]
  },
  {
   "cell_type": "code",
   "execution_count": 16,
   "metadata": {},
   "outputs": [
    {
     "name": "stdout",
     "output_type": "stream",
     "text": [
      "Total text documents loaded: 1408\n"
     ]
    }
   ],
   "source": [
    "documents = []\n",
    "\n",
    "for article_id in article_ids:\n",
    "    path = os.getcwd() + \"/data/articles/\" + article_id + \".txt\" \n",
    "    rawtext = open(path, \"r\", encoding = 'utf-8').read()\n",
    "    documents.append(rawtext)\n",
    "\n",
    "print(\"Total text documents loaded: %d\" % len(documents))"
   ]
  },
  {
   "cell_type": "markdown",
   "metadata": {},
   "source": [
    "#### Sample Details for 1 Article"
   ]
  },
  {
   "cell_type": "code",
   "execution_count": 17,
   "metadata": {},
   "outputs": [
    {
     "name": "stdout",
     "output_type": "stream",
     "text": [
      "Article ID- article-jan-0418 \n",
      "Target Class- 0 \n",
      "Target Class Label- technology \n",
      "Raw Document- 21st-Century Sports: How Digital Technology Is Changing the Face Of The Sporting Industry The sporting industry has come a long way since the ‘60s. It has carved out for itself a niche with its roots so deep that I cannot fathom the sports industry showing any sign of decline any time soon - or later.The reason can be found in this seemingly subtle difference - other industries have customers; the sporting industry has fans. Vivek Ranadivé, leader of the ownership group of the NBA’s Sacramento Kings, explained it beautifully, “Fans will paint their face purple, fans will evangelize. ... Every other CEO in every business is dying to be in our position — they’re dying to have fans.“While fan passion alone could almost certainly keep the industry going, leagues and sporting franchises have decided not to rest on their laurels. The last few years have seen the steady introduction of technology into the world of sports - amplifying fans’ appreciation of games, enhancing athletes’ public profiles and informing their training methods, even influencing how contests are waged.Also, digital technology in particular has helped to create an alternative source of revenue, besides the games themselves - corporate sponsorship. They achieved this by capitalizing on the ardor of their customer base - sorry, fan base. \n"
     ]
    }
   ],
   "source": [
    "print(\"Article ID- %s \" % article_ids[0])\n",
    "print(\"Target Class- %s \" % target[0])\n",
    "print(\"Target Class Label- %s \" % labels[target[0]])\n",
    "print(\"Raw Document- %s \" % documents[0])"
   ]
  },
  {
   "cell_type": "markdown",
   "metadata": {},
   "source": [
    "### <font color=\"red\">2.2. From the raw documents, create a document-term matrix, using appropriate text pre-processing and term weight</font>"
   ]
  },
  {
   "cell_type": "markdown",
   "metadata": {},
   "source": [
    "### 2.2.1. Pre-Processing"
   ]
  },
  {
   "cell_type": "markdown",
   "metadata": {},
   "source": [
    "The raw documents are splitted to form tokens. These tokens will be cleaned and then will be used for analysis. Tokens are cleaned by following Standard Pre-processing Steps:\n",
    "\n",
    "1. Tokenization\n",
    "2. Normalisation/ Case Conversion\n",
    "3. Stop words Filtering\n",
    "4. Stemming/ Lemmatisation "
   ]
  },
  {
   "cell_type": "markdown",
   "metadata": {},
   "source": [
    "#### <u>Step 1:</u> Tokenization + Normalization (Lower Case Coversion)"
   ]
  },
  {
   "cell_type": "markdown",
   "metadata": {},
   "source": [
    "Tokenize and normalize data using the custom class object"
   ]
  },
  {
   "cell_type": "code",
   "execution_count": 18,
   "metadata": {
    "collapsed": true
   },
   "outputs": [],
   "source": [
    "def tokenize_normalize(documents):\n",
    "    '''\n",
    "    Parameters: documents (List of documents)\n",
    "    Return: normalized tokens list for every document\n",
    "    --------\n",
    "    To convert the words in the documents to lower case and tokenize them using scikit-learn\n",
    "    '''\n",
    "    tokenize = CountVectorizer().build_tokenizer()\n",
    "    tokens = []\n",
    "    for article in documents:\n",
    "        tokens.append(tokenize(article.lower()))       # Normalization(lowercase conversion) and Tokenization   \n",
    "    return tokens"
   ]
  },
  {
   "cell_type": "code",
   "execution_count": 19,
   "metadata": {},
   "outputs": [
    {
     "name": "stdout",
     "output_type": "stream",
     "text": [
      "Sample Normalized Tokens for Article with ID: 'article-jan-0418' \n",
      "\n",
      "['21st', 'century', 'sports', 'how', 'digital', 'technology', 'is', 'changing', 'the', 'face', 'of', 'the', 'sporting', 'industry', 'the', 'sporting', 'industry', 'has', 'come', 'long', 'way', 'since', 'the', '60s', 'it', 'has', 'carved', 'out', 'for', 'itself', 'niche', 'with', 'its', 'roots', 'so', 'deep', 'that', 'cannot', 'fathom', 'the', 'sports', 'industry', 'showing', 'any', 'sign', 'of', 'decline', 'any', 'time', 'soon', 'or', 'later', 'the', 'reason', 'can', 'be', 'found', 'in', 'this', 'seemingly', 'subtle', 'difference', 'other', 'industries', 'have', 'customers', 'the', 'sporting', 'industry', 'has', 'fans', 'vivek', 'ranadivé', 'leader', 'of', 'the', 'ownership', 'group', 'of', 'the', 'nba', 'sacramento', 'kings', 'explained', 'it', 'beautifully', 'fans', 'will', 'paint', 'their', 'face', 'purple', 'fans', 'will', 'evangelize', 'every', 'other', 'ceo', 'in', 'every', 'business', 'is', 'dying', 'to', 'be', 'in', 'our', 'position', 'they', 're', 'dying', 'to', 'have', 'fans', 'while', 'fan', 'passion', 'alone', 'could', 'almost', 'certainly', 'keep', 'the', 'industry', 'going', 'leagues', 'and', 'sporting', 'franchises', 'have', 'decided', 'not', 'to', 'rest', 'on', 'their', 'laurels', 'the', 'last', 'few', 'years', 'have', 'seen', 'the', 'steady', 'introduction', 'of', 'technology', 'into', 'the', 'world', 'of', 'sports', 'amplifying', 'fans', 'appreciation', 'of', 'games', 'enhancing', 'athletes', 'public', 'profiles', 'and', 'informing', 'their', 'training', 'methods', 'even', 'influencing', 'how', 'contests', 'are', 'waged', 'also', 'digital', 'technology', 'in', 'particular', 'has', 'helped', 'to', 'create', 'an', 'alternative', 'source', 'of', 'revenue', 'besides', 'the', 'games', 'themselves', 'corporate', 'sponsorship', 'they', 'achieved', 'this', 'by', 'capitalizing', 'on', 'the', 'ardor', 'of', 'their', 'customer', 'base', 'sorry', 'fan', 'base']\n",
      "\n",
      "Length of Tokens: 208\n",
      "\n"
     ]
    }
   ],
   "source": [
    "tokens = tokenize_normalize(documents)\n",
    "\n",
    "# Sample Normalized Tokens and length of tokens for an article\n",
    "print(\"Sample Normalized Tokens for Article with ID: '%s' \\n\" % article_ids[0])\n",
    "print(tokens[0])\n",
    "print(\"\\nLength of Tokens: %d\\n\" % len(tokens[0]))"
   ]
  },
  {
   "cell_type": "markdown",
   "metadata": {},
   "source": [
    "#### <u>Step 2:</u> Stopwords Removal"
   ]
  },
  {
   "cell_type": "markdown",
   "metadata": {},
   "source": [
    "Scikit-learn feature extract Stopwords list (frozenset)"
   ]
  },
  {
   "cell_type": "code",
   "execution_count": 20,
   "metadata": {},
   "outputs": [
    {
     "name": "stdout",
     "output_type": "stream",
     "text": [
      "Stopwords List:\n",
      "frozenset({'less', 'first', 'itself', 'during', 'latterly', 'nowhere', 'though', 'he', 'anyone', 'our', 'anything', 'until', 'whereas', 'also', 'behind', 'while', 'thereupon', 'within', 'onto', 'found', 'me', 'once', 'put', 'herself', 'becoming', 'same', 'an', 'else', 'couldnt', 'those', 'others', 'us', 'please', 'top', 'former', 'back', 'but', 'go', 'between', 'keep', 'last', 'among', 'per', 'than', 'been', 'was', 'your', 'over', 'am', 'both', 'third', 'cant', 'other', 'thru', 'elsewhere', 'four', 'can', 'as', 'with', 'by', 'only', 'before', 'everywhere', 'whole', 'call', 'they', 'formerly', 'serious', 'nevertheless', 'thin', 'thus', 'none', 'almost', 'towards', 'six', 'whither', 'amoungst', 'whereby', 'are', 'if', 'myself', 'all', 'will', 'either', 'cry', 'she', 'un', 'sincere', 'somewhere', 'every', 'to', 'around', 'nor', 'already', 'eight', 'indeed', 'not', 'few', 'further', 'neither', 'or', 'perhaps', 'still', 'take', 'thence', 'twenty', 'that', 'forty', 'we', 'somehow', 'another', 'them', 'however', 'anyhow', 'seems', 'because', 'in', 'beforehand', 'etc', 'fire', 'move', 'something', 'no', 'give', 'sometime', 'sometimes', 'their', 'whence', 'seem', 'much', 'never', 'bottom', 'everything', 'himself', 'i', 'often', 'rather', 'thereafter', 'this', 'afterwards', 'part', 'here', 'his', 'full', 'some', 'beyond', 'system', 'ourselves', 'herein', 'wherein', 'which', 'wherever', 'whom', 'nine', 'when', 'there', 'whose', 'being', 'mine', 'at', 'five', 'should', 'beside', 'a', 'detail', 'him', 'inc', 'next', 'therein', 'con', 'nothing', 'fifty', 'toward', 'anyway', 'meanwhile', 'amount', 'via', 'hereby', 'each', 'its', 'bill', 'whatever', 'side', 'always', 'below', 'describe', 'became', 'across', 'amongst', 'from', 'be', 'these', 'thick', 'whenever', 'why', 'alone', 'except', 'own', 'whether', 'noone', 'three', 'become', 'otherwise', 'whoever', 'yet', 'has', 'who', 'along', 'her', 'hereafter', 'hereupon', 'whereupon', 'yourselves', 'had', 'is', 'then', 'up', 'might', 'were', 'after', 'down', 'hundred', 'de', 'although', 'moreover', 'now', 'for', 'therefore', 'empty', 'you', 'ie', 'well', 'would', 'latter', 'name', 'thereby', 'have', 'co', 'what', 'eg', 'off', 'front', 'may', 'someone', 'upon', 'interest', 'enough', 'my', 'made', 'so', 'again', 'together', 'seemed', 'cannot', 'seeming', 'whereafter', 'ltd', 'and', 'even', 'get', 'mill', 'fifteen', 'ours', 'out', 'on', 'show', 'throughout', 'too', 'very', 'do', 'where', 'yours', 'several', 'yourself', 'about', 'sixty', 'under', 'could', 'hers', 'everyone', 'many', 'becomes', 'it', 'since', 'such', 'most', 'into', 'nobody', 'namely', 'twelve', 'any', 'above', 'see', 'the', 'due', 'more', 'eleven', 'must', 'two', 'ten', 'through', 'without', 'mostly', 'ever', 'hence', 'find', 'done', 'how', 'anywhere', 'fill', 'hasnt', 'least', 'besides', 'one', 'of', 're', 'against', 'themselves'})\n"
     ]
    }
   ],
   "source": [
    "# List of Stopwords that will be removed\n",
    "stopwords = text.ENGLISH_STOP_WORDS\n",
    "print(\"Stopwords List:\")\n",
    "print(stopwords)"
   ]
  },
  {
   "cell_type": "markdown",
   "metadata": {},
   "source": [
    "Filter out the above shown stopwords from the list of tokens for all the documents using custom class object"
   ]
  },
  {
   "cell_type": "code",
   "execution_count": 21,
   "metadata": {
    "collapsed": true
   },
   "outputs": [],
   "source": [
    "def filter_stopwords(tokens, stopwords):\n",
    "    '''\n",
    "    Parameters: tokens (List of tokens for every document), stopwords (List of stopwords)\n",
    "    Return: stopwords filtered tokens list for every document\n",
    "    --------\n",
    "    To update the tokens list by filtering stopwords\n",
    "    '''\n",
    "    for i in range (0, len(tokens)):\n",
    "        filtered_token = []\n",
    "        for token in tokens[i]:\n",
    "            if token not in stopwords:\n",
    "                filtered_token.append(token)\n",
    "        tokens[i] = filtered_token\n",
    "    return tokens"
   ]
  },
  {
   "cell_type": "code",
   "execution_count": 22,
   "metadata": {},
   "outputs": [
    {
     "name": "stdout",
     "output_type": "stream",
     "text": [
      "Created 1408 filtered token lists\n",
      "\n",
      "Sample Filtered Tokens for Article with ID: 'article-jan-0418' \n",
      "\n",
      "['21st', 'century', 'sports', 'digital', 'technology', 'changing', 'face', 'sporting', 'industry', 'sporting', 'industry', 'come', 'long', 'way', '60s', 'carved', 'niche', 'roots', 'deep', 'fathom', 'sports', 'industry', 'showing', 'sign', 'decline', 'time', 'soon', 'later', 'reason', 'seemingly', 'subtle', 'difference', 'industries', 'customers', 'sporting', 'industry', 'fans', 'vivek', 'ranadivé', 'leader', 'ownership', 'group', 'nba', 'sacramento', 'kings', 'explained', 'beautifully', 'fans', 'paint', 'face', 'purple', 'fans', 'evangelize', 'ceo', 'business', 'dying', 'position', 'dying', 'fans', 'fan', 'passion', 'certainly', 'industry', 'going', 'leagues', 'sporting', 'franchises', 'decided', 'rest', 'laurels', 'years', 'seen', 'steady', 'introduction', 'technology', 'world', 'sports', 'amplifying', 'fans', 'appreciation', 'games', 'enhancing', 'athletes', 'public', 'profiles', 'informing', 'training', 'methods', 'influencing', 'contests', 'waged', 'digital', 'technology', 'particular', 'helped', 'create', 'alternative', 'source', 'revenue', 'games', 'corporate', 'sponsorship', 'achieved', 'capitalizing', 'ardor', 'customer', 'base', 'sorry', 'fan', 'base']\n",
      "\n",
      "Length of Tokens: 110\n",
      "\n"
     ]
    }
   ],
   "source": [
    "# Filter out stopwords from the list of tokens for every document\n",
    "tokens = filter_stopwords(tokens, stopwords)\n",
    "print(\"Created %d filtered token lists\" % len(tokens))\n",
    "\n",
    "# Sample Filtered Tokens and length of tokens for an article\n",
    "print(\"\\nSample Filtered Tokens for Article with ID: '%s' \\n\" % article_ids[0])\n",
    "print(tokens[0])\n",
    "print(\"\\nLength of Tokens: %d\\n\" % len(tokens[0]))"
   ]
  },
  {
   "cell_type": "markdown",
   "metadata": {},
   "source": [
    "#### <u>Step 3:</u> Lemmatization "
   ]
  },
  {
   "cell_type": "markdown",
   "metadata": {},
   "source": [
    "Reduce tokens to their canonical form\n",
    "\n",
    "<i><b>Kindly Note:</b> We are using WordNetLemmatization instead of standard English stemming algorithm (called the Porter Stemmer) beacuse Lemmatization preseves the words instead of trimming the last characters</i>"
   ]
  },
  {
   "cell_type": "code",
   "execution_count": 23,
   "metadata": {
    "collapsed": true
   },
   "outputs": [],
   "source": [
    "def lemmatizer(tokens):\n",
    "    '''\n",
    "    Parameters: tokens (List of tokens for every document)\n",
    "    Return: lemmatized tokens list for every document\n",
    "    --------\n",
    "    Function for lemmatizing to reduce a term to its canonical form \n",
    "    WordNetLemmatizer from nltk used since scikit-learn does not support it\n",
    "    '''\n",
    "    lemmatizer = nltk.stem.WordNetLemmatizer()\n",
    "    for i in range (0, len(tokens)):\n",
    "        lemma_tokens = []\n",
    "        for token in tokens[i]:\n",
    "            lemma_tokens.append(lemmatizer.lemmatize(token))\n",
    "        tokens[i] = lemma_tokens\n",
    "    return tokens"
   ]
  },
  {
   "cell_type": "code",
   "execution_count": 24,
   "metadata": {},
   "outputs": [
    {
     "name": "stdout",
     "output_type": "stream",
     "text": [
      "Created 1408 Lemmatized token lists\n",
      "\n",
      "Sample Lemmatized Tokens for Article with ID: 'article-jan-0418' \n",
      "\n",
      "['21st', 'century', 'sport', 'digital', 'technology', 'changing', 'face', 'sporting', 'industry', 'sporting', 'industry', 'come', 'long', 'way', '60', 'carved', 'niche', 'root', 'deep', 'fathom', 'sport', 'industry', 'showing', 'sign', 'decline', 'time', 'soon', 'later', 'reason', 'seemingly', 'subtle', 'difference', 'industry', 'customer', 'sporting', 'industry', 'fan', 'vivek', 'ranadivé', 'leader', 'ownership', 'group', 'nba', 'sacramento', 'king', 'explained', 'beautifully', 'fan', 'paint', 'face', 'purple', 'fan', 'evangelize', 'ceo', 'business', 'dying', 'position', 'dying', 'fan', 'fan', 'passion', 'certainly', 'industry', 'going', 'league', 'sporting', 'franchise', 'decided', 'rest', 'laurel', 'year', 'seen', 'steady', 'introduction', 'technology', 'world', 'sport', 'amplifying', 'fan', 'appreciation', 'game', 'enhancing', 'athlete', 'public', 'profile', 'informing', 'training', 'method', 'influencing', 'contest', 'waged', 'digital', 'technology', 'particular', 'helped', 'create', 'alternative', 'source', 'revenue', 'game', 'corporate', 'sponsorship', 'achieved', 'capitalizing', 'ardor', 'customer', 'base', 'sorry', 'fan', 'base']\n",
      "\n",
      "Length of Tokens: 110\n",
      "\n"
     ]
    }
   ],
   "source": [
    "# lemmatizing tokens for every document\n",
    "tokens = lemmatizer(tokens)\n",
    "print(\"Created %d Lemmatized token lists\" % len(tokens))\n",
    "\n",
    "# Sample Filtered Tokens and length of tokens for an article\n",
    "print(\"\\nSample Lemmatized Tokens for Article with ID: '%s' \\n\" % article_ids[0])\n",
    "print(tokens[0])\n",
    "print(\"\\nLength of Tokens: %d\\n\" % len(tokens[0]))"
   ]
  },
  {
   "cell_type": "markdown",
   "metadata": {},
   "source": [
    "#### <u>Step 4:</u> Create Corpus of articles from the pre-processed Tokens"
   ]
  },
  {
   "cell_type": "code",
   "execution_count": 25,
   "metadata": {},
   "outputs": [
    {
     "name": "stdout",
     "output_type": "stream",
     "text": [
      "Sample clean acrticle for Article with ID: 'article-jan-0418' \n",
      "\n",
      "21st century sport digital technology changing face sporting industry sporting industry come long way 60 carved niche root deep fathom sport industry showing sign decline time soon later reason seemingly subtle difference industry customer sporting industry fan vivek ranadivé leader ownership group nba sacramento king explained beautifully fan paint face purple fan evangelize ceo business dying position dying fan fan passion certainly industry going league sporting franchise decided rest laurel year seen steady introduction technology world sport amplifying fan appreciation game enhancing athlete public profile informing training method influencing contest waged digital technology particular helped create alternative source revenue game corporate sponsorship achieved capitalizing ardor customer base sorry fan base\n",
      "\n",
      "Number of Articles in Corpus: 1408\n",
      "\n"
     ]
    }
   ],
   "source": [
    "corpus = []\n",
    "for articles in tokens:\n",
    "    corpus.append(\" \".join(articles))\n",
    "    \n",
    "# Sample Clean Article and number of articles in corpus\n",
    "print(\"Sample clean acrticle for Article with ID: '%s' \\n\" % article_ids[0])\n",
    "print(corpus[0])\n",
    "print(\"\\nNumber of Articles in Corpus: %d\\n\" % len(corpus))"
   ]
  },
  {
   "cell_type": "markdown",
   "metadata": {},
   "source": [
    "### 2.2.2. Count Vector using (CountVectorizor)"
   ]
  },
  {
   "cell_type": "markdown",
   "metadata": {},
   "source": [
    "#### Create count vector keeping minimum document frequnecy as 3"
   ]
  },
  {
   "cell_type": "code",
   "execution_count": 26,
   "metadata": {},
   "outputs": [
    {
     "name": "stdout",
     "output_type": "stream",
     "text": [
      "(1408, 8763)\n"
     ]
    }
   ],
   "source": [
    "vectorizer = CountVectorizer(min_df = 3)\n",
    "countVector = vectorizer.fit_transform(corpus)\n",
    "print(countVector.shape)"
   ]
  },
  {
   "cell_type": "markdown",
   "metadata": {},
   "source": [
    "#### Number of Terms in Vocabulary"
   ]
  },
  {
   "cell_type": "code",
   "execution_count": 27,
   "metadata": {},
   "outputs": [
    {
     "name": "stdout",
     "output_type": "stream",
     "text": [
      "Number of terms: 8763\n"
     ]
    }
   ],
   "source": [
    "print(\"Number of terms: %d\" % len(vectorizer.vocabulary_))"
   ]
  },
  {
   "cell_type": "markdown",
   "metadata": {},
   "source": [
    "#### Some sample terms"
   ]
  },
  {
   "cell_type": "code",
   "execution_count": 28,
   "metadata": {},
   "outputs": [
    {
     "name": "stdout",
     "output_type": "stream",
     "text": [
      "['21st', 'century', 'sport', 'digital', 'technology', 'changing', 'face', 'sporting', 'industry', 'come', 'long', 'way', '60', 'niche', 'root', 'deep', 'showing', 'sign', 'decline', 'time', 'soon', 'later', 'reason', 'seemingly', 'difference', 'customer', 'fan', 'leader', 'ownership', 'group', 'nba', 'king', 'explained', 'paint', 'ceo', 'business', 'dying', 'position', 'passion', 'certainly']\n"
     ]
    }
   ],
   "source": [
    "print(list(vectorizer.vocabulary_.keys())[:40])"
   ]
  },
  {
   "cell_type": "markdown",
   "metadata": {},
   "source": [
    "#### Verify if stopwords are removed"
   ]
  },
  {
   "cell_type": "code",
   "execution_count": 29,
   "metadata": {},
   "outputs": [
    {
     "data": {
      "text/plain": [
       "False"
      ]
     },
     "execution_count": 29,
     "metadata": {},
     "output_type": "execute_result"
    }
   ],
   "source": [
    "\"and\" in vectorizer.get_feature_names()"
   ]
  },
  {
   "cell_type": "markdown",
   "metadata": {},
   "source": [
    "### 2.2.3. Term Weighing using (TfidfVectorizer)"
   ]
  },
  {
   "cell_type": "markdown",
   "metadata": {},
   "source": [
    "Instead of doing everything separately, Scikit-learn provides the capability to perform everything in a single step where we can also adjust parameters. However, we can also create TF-IDF Matrix using Count Vector generated earlier. This command will directly create the weighted term document matrix.<br><br>\n",
    "Parameters Used:\n",
    "1. Stopwords = English\n",
    "2. Minimum Document Frequency = 3\n",
    "3. Tokenizer = lemma_tonkenizer (Custom NLTK based function)"
   ]
  },
  {
   "cell_type": "markdown",
   "metadata": {},
   "source": [
    "#### Function for lemmatizing data using NLTK WordNetLemmatizer"
   ]
  },
  {
   "cell_type": "code",
   "execution_count": 30,
   "metadata": {
    "collapsed": true
   },
   "outputs": [],
   "source": [
    "def lemma_tokenizer(text):\n",
    "    '''\n",
    "    Function for lemmatizing to reduce a term to its canonical form \n",
    "    '''\n",
    "    # use the standard scikit-learn tokenizer first\n",
    "    standard_tokenizer = CountVectorizer().build_tokenizer()\n",
    "    tokens = standard_tokenizer(text)\n",
    "    # then use NLTK to perform lemmatisation on each token\n",
    "    lemmatizer = nltk.stem.WordNetLemmatizer()\n",
    "    lemma_tokens = []\n",
    "    for token in tokens:\n",
    "        lemma_tokens.append( lemmatizer.lemmatize(token) )\n",
    "    return lemma_tokens"
   ]
  },
  {
   "cell_type": "markdown",
   "metadata": {},
   "source": [
    "#### Create TF-IDF Matrix using scikit-learn"
   ]
  },
  {
   "cell_type": "code",
   "execution_count": 31,
   "metadata": {},
   "outputs": [
    {
     "name": "stdout",
     "output_type": "stream",
     "text": [
      "(1408, 20653)\n"
     ]
    }
   ],
   "source": [
    "tfidf = TfidfVectorizer(stop_words=\"english\",min_df = 3,ngram_range=(1, 2),tokenizer=lemma_tokenizer)\n",
    "X = tfidf.fit_transform(documents)\n",
    "print(X.shape)"
   ]
  },
  {
   "cell_type": "markdown",
   "metadata": {},
   "source": [
    "#### Verify if stopwords are removed"
   ]
  },
  {
   "cell_type": "code",
   "execution_count": 32,
   "metadata": {},
   "outputs": [
    {
     "data": {
      "text/plain": [
       "False"
      ]
     },
     "execution_count": 32,
     "metadata": {},
     "output_type": "execute_result"
    }
   ],
   "source": [
    "\"and\" in tfidf.get_feature_names()"
   ]
  },
  {
   "cell_type": "code",
   "execution_count": 33,
   "metadata": {},
   "outputs": [
    {
     "name": "stdout",
     "output_type": "stream",
     "text": [
      "Number of Terms: 20653\n"
     ]
    }
   ],
   "source": [
    "vocab = tfidf.vocabulary_\n",
    "print(\"Number of Terms: %d\" % len(vocab))"
   ]
  },
  {
   "cell_type": "markdown",
   "metadata": {},
   "source": [
    "#### Total Vocabulary Terms"
   ]
  },
  {
   "cell_type": "code",
   "execution_count": 34,
   "metadata": {},
   "outputs": [
    {
     "name": "stdout",
     "output_type": "stream",
     "text": [
      "Distinct Vocabulary Terms: 20653\n"
     ]
    }
   ],
   "source": [
    "terms = tfidf.get_feature_names()\n",
    "print(\"Distinct Vocabulary Terms: %d\" % len(terms))"
   ]
  },
  {
   "cell_type": "markdown",
   "metadata": {},
   "source": [
    "#### Create a Document-Term Matrix\n",
    "##### (Bag of Words)"
   ]
  },
  {
   "cell_type": "code",
   "execution_count": 35,
   "metadata": {},
   "outputs": [
    {
     "name": "stdout",
     "output_type": "stream",
     "text": [
      "Sample Bag of Words Model (with Term Weights):\n"
     ]
    },
    {
     "data": {
      "text/html": [
       "<div>\n",
       "<style>\n",
       "    .dataframe thead tr:only-child th {\n",
       "        text-align: right;\n",
       "    }\n",
       "\n",
       "    .dataframe thead th {\n",
       "        text-align: left;\n",
       "    }\n",
       "\n",
       "    .dataframe tbody tr th {\n",
       "        vertical-align: top;\n",
       "    }\n",
       "</style>\n",
       "<table border=\"1\" class=\"dataframe\">\n",
       "  <thead>\n",
       "    <tr style=\"text-align: right;\">\n",
       "      <th></th>\n",
       "      <th>article-jan-0418</th>\n",
       "      <th>article-jan-0027</th>\n",
       "      <th>article-jan-0631</th>\n",
       "      <th>article-jan-2105</th>\n",
       "      <th>article-jan-3300</th>\n",
       "      <th>article-jan-4187</th>\n",
       "      <th>article-jan-1974</th>\n",
       "      <th>article-jan-3666</th>\n",
       "      <th>article-jan-2629</th>\n",
       "      <th>article-jan-2415</th>\n",
       "      <th>...</th>\n",
       "      <th>article-dec-4918</th>\n",
       "      <th>article-dec-2759</th>\n",
       "      <th>article-dec-4347</th>\n",
       "      <th>article-dec-3179</th>\n",
       "      <th>article-dec-1456</th>\n",
       "      <th>article-dec-2238</th>\n",
       "      <th>article-dec-2334</th>\n",
       "      <th>article-dec-2095</th>\n",
       "      <th>article-dec-1351</th>\n",
       "      <th>article-dec-0068</th>\n",
       "    </tr>\n",
       "  </thead>\n",
       "  <tbody>\n",
       "    <tr>\n",
       "      <th>zinedine</th>\n",
       "      <td>0.0</td>\n",
       "      <td>0.000000</td>\n",
       "      <td>0.0</td>\n",
       "      <td>0.0</td>\n",
       "      <td>0.0</td>\n",
       "      <td>0.0</td>\n",
       "      <td>0.0</td>\n",
       "      <td>0.0</td>\n",
       "      <td>0.0</td>\n",
       "      <td>0.000000</td>\n",
       "      <td>...</td>\n",
       "      <td>0.0</td>\n",
       "      <td>0.0</td>\n",
       "      <td>0.0</td>\n",
       "      <td>0.0</td>\n",
       "      <td>0.0</td>\n",
       "      <td>0.0</td>\n",
       "      <td>0.0</td>\n",
       "      <td>0.0</td>\n",
       "      <td>0.0</td>\n",
       "      <td>0.0</td>\n",
       "    </tr>\n",
       "    <tr>\n",
       "      <th>zinedine zidane</th>\n",
       "      <td>0.0</td>\n",
       "      <td>0.000000</td>\n",
       "      <td>0.0</td>\n",
       "      <td>0.0</td>\n",
       "      <td>0.0</td>\n",
       "      <td>0.0</td>\n",
       "      <td>0.0</td>\n",
       "      <td>0.0</td>\n",
       "      <td>0.0</td>\n",
       "      <td>0.000000</td>\n",
       "      <td>...</td>\n",
       "      <td>0.0</td>\n",
       "      <td>0.0</td>\n",
       "      <td>0.0</td>\n",
       "      <td>0.0</td>\n",
       "      <td>0.0</td>\n",
       "      <td>0.0</td>\n",
       "      <td>0.0</td>\n",
       "      <td>0.0</td>\n",
       "      <td>0.0</td>\n",
       "      <td>0.0</td>\n",
       "    </tr>\n",
       "    <tr>\n",
       "      <th>zip</th>\n",
       "      <td>0.0</td>\n",
       "      <td>0.000000</td>\n",
       "      <td>0.0</td>\n",
       "      <td>0.0</td>\n",
       "      <td>0.0</td>\n",
       "      <td>0.0</td>\n",
       "      <td>0.0</td>\n",
       "      <td>0.0</td>\n",
       "      <td>0.0</td>\n",
       "      <td>0.000000</td>\n",
       "      <td>...</td>\n",
       "      <td>0.0</td>\n",
       "      <td>0.0</td>\n",
       "      <td>0.0</td>\n",
       "      <td>0.0</td>\n",
       "      <td>0.0</td>\n",
       "      <td>0.0</td>\n",
       "      <td>0.0</td>\n",
       "      <td>0.0</td>\n",
       "      <td>0.0</td>\n",
       "      <td>0.0</td>\n",
       "    </tr>\n",
       "    <tr>\n",
       "      <th>zola</th>\n",
       "      <td>0.0</td>\n",
       "      <td>0.000000</td>\n",
       "      <td>0.0</td>\n",
       "      <td>0.0</td>\n",
       "      <td>0.0</td>\n",
       "      <td>0.0</td>\n",
       "      <td>0.0</td>\n",
       "      <td>0.0</td>\n",
       "      <td>0.0</td>\n",
       "      <td>0.000000</td>\n",
       "      <td>...</td>\n",
       "      <td>0.0</td>\n",
       "      <td>0.0</td>\n",
       "      <td>0.0</td>\n",
       "      <td>0.0</td>\n",
       "      <td>0.0</td>\n",
       "      <td>0.0</td>\n",
       "      <td>0.0</td>\n",
       "      <td>0.0</td>\n",
       "      <td>0.0</td>\n",
       "      <td>0.0</td>\n",
       "    </tr>\n",
       "    <tr>\n",
       "      <th>zombie</th>\n",
       "      <td>0.0</td>\n",
       "      <td>0.000000</td>\n",
       "      <td>0.0</td>\n",
       "      <td>0.0</td>\n",
       "      <td>0.0</td>\n",
       "      <td>0.0</td>\n",
       "      <td>0.0</td>\n",
       "      <td>0.0</td>\n",
       "      <td>0.0</td>\n",
       "      <td>0.000000</td>\n",
       "      <td>...</td>\n",
       "      <td>0.0</td>\n",
       "      <td>0.0</td>\n",
       "      <td>0.0</td>\n",
       "      <td>0.0</td>\n",
       "      <td>0.0</td>\n",
       "      <td>0.0</td>\n",
       "      <td>0.0</td>\n",
       "      <td>0.0</td>\n",
       "      <td>0.0</td>\n",
       "      <td>0.0</td>\n",
       "    </tr>\n",
       "    <tr>\n",
       "      <th>zombie bot</th>\n",
       "      <td>0.0</td>\n",
       "      <td>0.000000</td>\n",
       "      <td>0.0</td>\n",
       "      <td>0.0</td>\n",
       "      <td>0.0</td>\n",
       "      <td>0.0</td>\n",
       "      <td>0.0</td>\n",
       "      <td>0.0</td>\n",
       "      <td>0.0</td>\n",
       "      <td>0.000000</td>\n",
       "      <td>...</td>\n",
       "      <td>0.0</td>\n",
       "      <td>0.0</td>\n",
       "      <td>0.0</td>\n",
       "      <td>0.0</td>\n",
       "      <td>0.0</td>\n",
       "      <td>0.0</td>\n",
       "      <td>0.0</td>\n",
       "      <td>0.0</td>\n",
       "      <td>0.0</td>\n",
       "      <td>0.0</td>\n",
       "    </tr>\n",
       "    <tr>\n",
       "      <th>zone</th>\n",
       "      <td>0.0</td>\n",
       "      <td>0.000000</td>\n",
       "      <td>0.0</td>\n",
       "      <td>0.0</td>\n",
       "      <td>0.0</td>\n",
       "      <td>0.0</td>\n",
       "      <td>0.0</td>\n",
       "      <td>0.0</td>\n",
       "      <td>0.0</td>\n",
       "      <td>0.047641</td>\n",
       "      <td>...</td>\n",
       "      <td>0.0</td>\n",
       "      <td>0.0</td>\n",
       "      <td>0.0</td>\n",
       "      <td>0.0</td>\n",
       "      <td>0.0</td>\n",
       "      <td>0.0</td>\n",
       "      <td>0.0</td>\n",
       "      <td>0.0</td>\n",
       "      <td>0.0</td>\n",
       "      <td>0.0</td>\n",
       "    </tr>\n",
       "    <tr>\n",
       "      <th>zoom</th>\n",
       "      <td>0.0</td>\n",
       "      <td>0.000000</td>\n",
       "      <td>0.0</td>\n",
       "      <td>0.0</td>\n",
       "      <td>0.0</td>\n",
       "      <td>0.0</td>\n",
       "      <td>0.0</td>\n",
       "      <td>0.0</td>\n",
       "      <td>0.0</td>\n",
       "      <td>0.000000</td>\n",
       "      <td>...</td>\n",
       "      <td>0.0</td>\n",
       "      <td>0.0</td>\n",
       "      <td>0.0</td>\n",
       "      <td>0.0</td>\n",
       "      <td>0.0</td>\n",
       "      <td>0.0</td>\n",
       "      <td>0.0</td>\n",
       "      <td>0.0</td>\n",
       "      <td>0.0</td>\n",
       "      <td>0.0</td>\n",
       "    </tr>\n",
       "    <tr>\n",
       "      <th>zurich</th>\n",
       "      <td>0.0</td>\n",
       "      <td>0.046698</td>\n",
       "      <td>0.0</td>\n",
       "      <td>0.0</td>\n",
       "      <td>0.0</td>\n",
       "      <td>0.0</td>\n",
       "      <td>0.0</td>\n",
       "      <td>0.0</td>\n",
       "      <td>0.0</td>\n",
       "      <td>0.000000</td>\n",
       "      <td>...</td>\n",
       "      <td>0.0</td>\n",
       "      <td>0.0</td>\n",
       "      <td>0.0</td>\n",
       "      <td>0.0</td>\n",
       "      <td>0.0</td>\n",
       "      <td>0.0</td>\n",
       "      <td>0.0</td>\n",
       "      <td>0.0</td>\n",
       "      <td>0.0</td>\n",
       "      <td>0.0</td>\n",
       "    </tr>\n",
       "    <tr>\n",
       "      <th>zurich premiership</th>\n",
       "      <td>0.0</td>\n",
       "      <td>0.000000</td>\n",
       "      <td>0.0</td>\n",
       "      <td>0.0</td>\n",
       "      <td>0.0</td>\n",
       "      <td>0.0</td>\n",
       "      <td>0.0</td>\n",
       "      <td>0.0</td>\n",
       "      <td>0.0</td>\n",
       "      <td>0.000000</td>\n",
       "      <td>...</td>\n",
       "      <td>0.0</td>\n",
       "      <td>0.0</td>\n",
       "      <td>0.0</td>\n",
       "      <td>0.0</td>\n",
       "      <td>0.0</td>\n",
       "      <td>0.0</td>\n",
       "      <td>0.0</td>\n",
       "      <td>0.0</td>\n",
       "      <td>0.0</td>\n",
       "      <td>0.0</td>\n",
       "    </tr>\n",
       "  </tbody>\n",
       "</table>\n",
       "<p>10 rows × 1408 columns</p>\n",
       "</div>"
      ],
      "text/plain": [
       "                    article-jan-0418  article-jan-0027  article-jan-0631  \\\n",
       "zinedine                         0.0          0.000000               0.0   \n",
       "zinedine zidane                  0.0          0.000000               0.0   \n",
       "zip                              0.0          0.000000               0.0   \n",
       "zola                             0.0          0.000000               0.0   \n",
       "zombie                           0.0          0.000000               0.0   \n",
       "zombie bot                       0.0          0.000000               0.0   \n",
       "zone                             0.0          0.000000               0.0   \n",
       "zoom                             0.0          0.000000               0.0   \n",
       "zurich                           0.0          0.046698               0.0   \n",
       "zurich premiership               0.0          0.000000               0.0   \n",
       "\n",
       "                    article-jan-2105  article-jan-3300  article-jan-4187  \\\n",
       "zinedine                         0.0               0.0               0.0   \n",
       "zinedine zidane                  0.0               0.0               0.0   \n",
       "zip                              0.0               0.0               0.0   \n",
       "zola                             0.0               0.0               0.0   \n",
       "zombie                           0.0               0.0               0.0   \n",
       "zombie bot                       0.0               0.0               0.0   \n",
       "zone                             0.0               0.0               0.0   \n",
       "zoom                             0.0               0.0               0.0   \n",
       "zurich                           0.0               0.0               0.0   \n",
       "zurich premiership               0.0               0.0               0.0   \n",
       "\n",
       "                    article-jan-1974  article-jan-3666  article-jan-2629  \\\n",
       "zinedine                         0.0               0.0               0.0   \n",
       "zinedine zidane                  0.0               0.0               0.0   \n",
       "zip                              0.0               0.0               0.0   \n",
       "zola                             0.0               0.0               0.0   \n",
       "zombie                           0.0               0.0               0.0   \n",
       "zombie bot                       0.0               0.0               0.0   \n",
       "zone                             0.0               0.0               0.0   \n",
       "zoom                             0.0               0.0               0.0   \n",
       "zurich                           0.0               0.0               0.0   \n",
       "zurich premiership               0.0               0.0               0.0   \n",
       "\n",
       "                    article-jan-2415        ...         article-dec-4918  \\\n",
       "zinedine                    0.000000        ...                      0.0   \n",
       "zinedine zidane             0.000000        ...                      0.0   \n",
       "zip                         0.000000        ...                      0.0   \n",
       "zola                        0.000000        ...                      0.0   \n",
       "zombie                      0.000000        ...                      0.0   \n",
       "zombie bot                  0.000000        ...                      0.0   \n",
       "zone                        0.047641        ...                      0.0   \n",
       "zoom                        0.000000        ...                      0.0   \n",
       "zurich                      0.000000        ...                      0.0   \n",
       "zurich premiership          0.000000        ...                      0.0   \n",
       "\n",
       "                    article-dec-2759  article-dec-4347  article-dec-3179  \\\n",
       "zinedine                         0.0               0.0               0.0   \n",
       "zinedine zidane                  0.0               0.0               0.0   \n",
       "zip                              0.0               0.0               0.0   \n",
       "zola                             0.0               0.0               0.0   \n",
       "zombie                           0.0               0.0               0.0   \n",
       "zombie bot                       0.0               0.0               0.0   \n",
       "zone                             0.0               0.0               0.0   \n",
       "zoom                             0.0               0.0               0.0   \n",
       "zurich                           0.0               0.0               0.0   \n",
       "zurich premiership               0.0               0.0               0.0   \n",
       "\n",
       "                    article-dec-1456  article-dec-2238  article-dec-2334  \\\n",
       "zinedine                         0.0               0.0               0.0   \n",
       "zinedine zidane                  0.0               0.0               0.0   \n",
       "zip                              0.0               0.0               0.0   \n",
       "zola                             0.0               0.0               0.0   \n",
       "zombie                           0.0               0.0               0.0   \n",
       "zombie bot                       0.0               0.0               0.0   \n",
       "zone                             0.0               0.0               0.0   \n",
       "zoom                             0.0               0.0               0.0   \n",
       "zurich                           0.0               0.0               0.0   \n",
       "zurich premiership               0.0               0.0               0.0   \n",
       "\n",
       "                    article-dec-2095  article-dec-1351  article-dec-0068  \n",
       "zinedine                         0.0               0.0               0.0  \n",
       "zinedine zidane                  0.0               0.0               0.0  \n",
       "zip                              0.0               0.0               0.0  \n",
       "zola                             0.0               0.0               0.0  \n",
       "zombie                           0.0               0.0               0.0  \n",
       "zombie bot                       0.0               0.0               0.0  \n",
       "zone                             0.0               0.0               0.0  \n",
       "zoom                             0.0               0.0               0.0  \n",
       "zurich                           0.0               0.0               0.0  \n",
       "zurich premiership               0.0               0.0               0.0  \n",
       "\n",
       "[10 rows x 1408 columns]"
      ]
     },
     "execution_count": 35,
     "metadata": {},
     "output_type": "execute_result"
    }
   ],
   "source": [
    "document_term_matrix = pd.DataFrame(X.toarray(), columns = tfidf.get_feature_names(), index = article_ids).T\n",
    "print(\"Sample Bag of Words Model (with Term Weights):\")\n",
    "document_term_matrix[-10:]"
   ]
  },
  {
   "cell_type": "markdown",
   "metadata": {},
   "source": [
    "### 2.2.4. Summarizing Corpus"
   ]
  },
  {
   "cell_type": "markdown",
   "metadata": {},
   "source": [
    "#### a) Top ten terms in the corpus"
   ]
  },
  {
   "cell_type": "code",
   "execution_count": 36,
   "metadata": {},
   "outputs": [
    {
     "data": {
      "text/plain": [
       "said      47.306146\n",
       "wa        42.241611\n",
       "ha        39.364000\n",
       "year      31.225139\n",
       "game      30.747373\n",
       "u         25.965329\n",
       "mr        21.802977\n",
       "people    21.529860\n",
       "player    21.063421\n",
       "new       21.019829\n",
       "dtype: float64"
      ]
     },
     "execution_count": 36,
     "metadata": {},
     "output_type": "execute_result"
    }
   ],
   "source": [
    "df2=document_term_matrix.T.sum().sort_values(ascending=False)\n",
    "df2[:10]"
   ]
  },
  {
   "cell_type": "markdown",
   "metadata": {},
   "source": [
    "#### b) Top Correlated Terms for each Category\n",
    "####     ( Chi<sup>2</sup> for finding correlated terms using tfidf vectorizer )"
   ]
  },
  {
   "cell_type": "code",
   "execution_count": 37,
   "metadata": {},
   "outputs": [
    {
     "data": {
      "text/plain": [
       "{'business': 1, 'sport': 2, 'technology': 0}"
      ]
     },
     "execution_count": 37,
     "metadata": {},
     "output_type": "execute_result"
    }
   ],
   "source": [
    "category_id_df = df[['category', 'target']].drop_duplicates().sort_values('target')\n",
    "category_to_id = dict(category_id_df.values)\n",
    "category_to_id"
   ]
  },
  {
   "cell_type": "code",
   "execution_count": 38,
   "metadata": {},
   "outputs": [
    {
     "name": "stdout",
     "output_type": "stream",
     "text": [
      "Category: 'business'\n",
      "\n",
      "1. Most correlated unigrams:\n",
      " . bank\n",
      " . economy\n",
      "\n",
      "2. Most correlated bigrams:\n",
      " . oil price\n",
      " . economic growth\n",
      "-----------------------\n",
      "\n",
      "Category: 'sport'\n",
      "\n",
      "1. Most correlated unigrams:\n",
      " . cup\n",
      " . england\n",
      "\n",
      "2. Most correlated bigrams:\n",
      " . world cup\n",
      " . year old\n",
      "-----------------------\n",
      "\n",
      "Category: 'technology'\n",
      "\n",
      "1. Most correlated unigrams:\n",
      " . user\n",
      " . mobile\n",
      "\n",
      "2. Most correlated bigrams:\n",
      " . said mr\n",
      " . mobile phone\n",
      "-----------------------\n",
      "\n"
     ]
    }
   ],
   "source": [
    "# Using the scikit-learn chi2 function to find features for chi-square category-wise and finding most correlated terms\n",
    "class_labels = df.target\n",
    "N = 2\n",
    "Chi_df = X\n",
    "for category, category_id in sorted(category_to_id.items()):\n",
    "    features_chi2 = chi2(Chi_df.toarray(), class_labels == category_id)\n",
    "    indices = np.argsort(features_chi2[0])\n",
    "    feature_names = np.array(tfidf.get_feature_names())[indices]\n",
    "    unigrams = [v for v in feature_names if len(v.split(' ')) == 1]\n",
    "    bigrams = [v for v in feature_names if len(v.split(' ')) == 2]\n",
    "    print(\"Category: '%s'\" % category)\n",
    "    print()\n",
    "    print(\"1. Most correlated unigrams:\\n . {}\".format('\\n . '.join(unigrams[-N:])))\n",
    "    print()\n",
    "    print(\"2. Most correlated bigrams:\\n . {}\".format('\\n . '.join(bigrams[-N:])))\n",
    "    print(\"-----------------------\\n\")"
   ]
  },
  {
   "cell_type": "markdown",
   "metadata": {},
   "source": [
    "#### c) Category-wise Terms Count"
   ]
  },
  {
   "cell_type": "markdown",
   "metadata": {},
   "source": [
    "The idea is to concatenate all the documents belonging to one category and then create a word cloud for the words belonging to one category. The word count is shown later in the visualizations section"
   ]
  },
  {
   "cell_type": "code",
   "execution_count": 39,
   "metadata": {},
   "outputs": [
    {
     "name": "stdout",
     "output_type": "stream",
     "text": [
      "Number of words in Category technology are: 743045\n",
      "Number of words in Category business are: 655470\n",
      "Number of words in Category sport are: 660271\n"
     ]
    }
   ],
   "source": [
    "category_concated_documents = []\n",
    "\n",
    "for i in range(0,len(labels)):\n",
    "    indexes = list(df.loc[df['category'] == labels[i]].index)\n",
    "    concat_doc = \"\"\n",
    "    for j in indexes:\n",
    "        concat_doc = concat_doc + \" \" + corpus[j]\n",
    "    category_concated_documents.append(concat_doc)\n",
    "    print(\"Number of words in Category \"+ labels[i] +\" are: \"+ str(len(category_concated_documents[i])))"
   ]
  },
  {
   "cell_type": "markdown",
   "metadata": {},
   "source": [
    "#### d) Cosine Similarity"
   ]
  },
  {
   "cell_type": "markdown",
   "metadata": {},
   "source": [
    "The articles belonging to different categories differ from each other and it is also possibl that one or more catgories are highly related. For finding similarity between categories we can use cosine similarity.\n",
    "<br>\n",
    "<b>*Cosine similarity*:</b> Most common approach for measuring similarity between two documents in a bag-of-words representation is to look at the cosine of the angle between their corresponding two term vectors. The motivation is that vectors for documents containing similar terms will point in the same direction in the m-dimensional vector space."
   ]
  },
  {
   "cell_type": "code",
   "execution_count": 40,
   "metadata": {},
   "outputs": [
    {
     "name": "stdout",
     "output_type": "stream",
     "text": [
      "(3, 4085)\n"
     ]
    }
   ],
   "source": [
    "category_vectorizer = TfidfVectorizer(stop_words=\"english\",min_df = 3,ngram_range=(1, 2),tokenizer=lemma_tokenizer)\n",
    "category_vector = category_vectorizer.fit_transform(category_concated_documents)\n",
    "print(category_vector.shape)"
   ]
  },
  {
   "cell_type": "code",
   "execution_count": 41,
   "metadata": {},
   "outputs": [
    {
     "name": "stdout",
     "output_type": "stream",
     "text": [
      "Cosine Similarity Scores:\n"
     ]
    },
    {
     "data": {
      "text/html": [
       "<div>\n",
       "<style>\n",
       "    .dataframe thead tr:only-child th {\n",
       "        text-align: right;\n",
       "    }\n",
       "\n",
       "    .dataframe thead th {\n",
       "        text-align: left;\n",
       "    }\n",
       "\n",
       "    .dataframe tbody tr th {\n",
       "        vertical-align: top;\n",
       "    }\n",
       "</style>\n",
       "<table border=\"1\" class=\"dataframe\">\n",
       "  <thead>\n",
       "    <tr style=\"text-align: right;\">\n",
       "      <th></th>\n",
       "      <th>technology</th>\n",
       "      <th>business</th>\n",
       "      <th>sport</th>\n",
       "    </tr>\n",
       "    <tr>\n",
       "      <th></th>\n",
       "      <th></th>\n",
       "      <th></th>\n",
       "      <th></th>\n",
       "    </tr>\n",
       "  </thead>\n",
       "  <tbody>\n",
       "    <tr>\n",
       "      <th>technology</th>\n",
       "      <td>1.000000</td>\n",
       "      <td>0.670587</td>\n",
       "      <td>0.577151</td>\n",
       "    </tr>\n",
       "    <tr>\n",
       "      <th>business</th>\n",
       "      <td>0.670587</td>\n",
       "      <td>1.000000</td>\n",
       "      <td>0.518109</td>\n",
       "    </tr>\n",
       "    <tr>\n",
       "      <th>sport</th>\n",
       "      <td>0.577151</td>\n",
       "      <td>0.518109</td>\n",
       "      <td>1.000000</td>\n",
       "    </tr>\n",
       "  </tbody>\n",
       "</table>\n",
       "</div>"
      ],
      "text/plain": [
       "            technology  business     sport\n",
       "                                          \n",
       "technology    1.000000  0.670587  0.577151\n",
       "business      0.670587  1.000000  0.518109\n",
       "sport         0.577151  0.518109  1.000000"
      ]
     },
     "metadata": {},
     "output_type": "display_data"
    }
   ],
   "source": [
    "cosine_matrix = pd.DataFrame([])\n",
    "# Measure the cosine similarity between the first document vector and all of the others\n",
    "print(\"Cosine Similarity Scores:\")\n",
    "for i in range(0,len(labels)):\n",
    "    temp_scores = []\n",
    "    for row in range(0,len(labels)):\n",
    "        cos = cosine_similarity( category_vector[i], category_vector[row] )\n",
    "        temp_scores.append(cos[0][0])\n",
    "    cosine_matrix[labels[i]] = temp_scores\n",
    "\n",
    "cosine_matrix[\"\"] = labels    \n",
    "cosine_matrix.set_index(\"\", inplace=True)\n",
    "display(cosine_matrix)"
   ]
  },
  {
   "cell_type": "markdown",
   "metadata": {},
   "source": [
    "### <font color=\"red\">2.3. Build two multi-class classification models using two different classifiers</font>\n"
   ]
  },
  {
   "cell_type": "markdown",
   "metadata": {},
   "source": [
    "Classification Algorithms Used:\n",
    "\n",
    "- Naive Bayes Algorithm\n",
    "- Linear SVC Algorithm"
   ]
  },
  {
   "cell_type": "code",
   "execution_count": 42,
   "metadata": {
    "collapsed": true
   },
   "outputs": [],
   "source": [
    "# Import Libraries\n",
    "from sklearn.naive_bayes import MultinomialNB\n",
    "from sklearn.svm import LinearSVC\n",
    "from sklearn.pipeline import Pipeline\n",
    "from sklearn.model_selection import train_test_split\n",
    "from sklearn.model_selection import GridSearchCV"
   ]
  },
  {
   "cell_type": "markdown",
   "metadata": {},
   "source": [
    "#### Splitting Data to get Test and Training Data \n",
    "\n",
    "##### (Using a split size of 0.3 or 30% as Test Set and 70% as Training Set)"
   ]
  },
  {
   "cell_type": "code",
   "execution_count": 43,
   "metadata": {},
   "outputs": [
    {
     "data": {
      "text/plain": [
       "(1408, 20653)"
      ]
     },
     "execution_count": 43,
     "metadata": {},
     "output_type": "execute_result"
    }
   ],
   "source": [
    "X.shape"
   ]
  },
  {
   "cell_type": "code",
   "execution_count": 44,
   "metadata": {},
   "outputs": [
    {
     "data": {
      "text/plain": [
       "array([0, 1, 0, ..., 1, 1, 2], dtype=int64)"
      ]
     },
     "execution_count": 44,
     "metadata": {},
     "output_type": "execute_result"
    }
   ],
   "source": [
    "target"
   ]
  },
  {
   "cell_type": "code",
   "execution_count": 45,
   "metadata": {},
   "outputs": [
    {
     "name": "stdout",
     "output_type": "stream",
     "text": [
      "Training set size is 985\n",
      "Test set size is 423\n"
     ]
    }
   ],
   "source": [
    "dataset_train, dataset_test, target_train, target_test = train_test_split(X, target, test_size=0.3)\n",
    "print(\"Training set size is %d\" % dataset_train.shape[0] )\n",
    "print(\"Test set size is %d\" % dataset_test.shape[0] )"
   ]
  },
  {
   "cell_type": "markdown",
   "metadata": {},
   "source": [
    "Variables for Measuring Running Times of Algorithms:"
   ]
  },
  {
   "cell_type": "code",
   "execution_count": 46,
   "metadata": {
    "collapsed": true
   },
   "outputs": [],
   "source": [
    "model_names = [\"MultinomialNB\", \"LinearSVC\"]\n",
    "models = []\n",
    "train_times = []\n",
    "tuned_models = []\n",
    "tuned_train_times = []"
   ]
  },
  {
   "cell_type": "markdown",
   "metadata": {},
   "source": [
    "### 2.3.1. Model Training (Default parameters)"
   ]
  },
  {
   "cell_type": "markdown",
   "metadata": {},
   "source": [
    "#### <font color=\"red\">a) Algorithm 1: *Naive Bayes Classification*</font>\n",
    "##### <font color=\"brown\">Multinomial Naive Bayes - Train Model using default parameters</font>"
   ]
  },
  {
   "cell_type": "code",
   "execution_count": 47,
   "metadata": {},
   "outputs": [
    {
     "name": "stdout",
     "output_type": "stream",
     "text": [
      "MultinomialNB(alpha=1.0, class_prior=None, fit_prior=True)\n",
      "Time Required to Train the model: 0.01698923110961914\n"
     ]
    }
   ],
   "source": [
    "startTime = time.time()\n",
    "\n",
    "model = MultinomialNB()\n",
    "model.fit(dataset_train, target_train)\n",
    "\n",
    "# Find out elapsed time in finding training the model using Naive Bayes Classifier\n",
    "elapsed_time = time.time() - startTime\n",
    "train_times.append(elapsed_time)\n",
    "\n",
    "models.append(model)\n",
    "print(models[0])\n",
    "print(\"Time Required to Train the model: \" + str(train_times[0]))"
   ]
  },
  {
   "cell_type": "markdown",
   "metadata": {},
   "source": [
    "#### <font color=\"red\">b) Algorithm 2: *LinearSVC Classification*</font>\n",
    "##### <font color=\"brown\">Support Vector Machine (LinearSVC) - Train Model using default parameters</font>"
   ]
  },
  {
   "cell_type": "code",
   "execution_count": 48,
   "metadata": {},
   "outputs": [
    {
     "name": "stdout",
     "output_type": "stream",
     "text": [
      "LinearSVC(C=1.0, class_weight=None, dual=True, fit_intercept=True,\n",
      "     intercept_scaling=1, loss='squared_hinge', max_iter=1000,\n",
      "     multi_class='ovr', penalty='l2', random_state=None, tol=0.0001,\n",
      "     verbose=0)\n",
      "Time Required to Train the model: 0.1578991413116455\n"
     ]
    }
   ],
   "source": [
    "startTime = time.time()\n",
    "\n",
    "model = LinearSVC()\n",
    "model.fit(dataset_train, target_train)\n",
    "\n",
    "# Find out elapsed time in finding training the model using LinearSVC (SVM with Linear Kernel) Classifier\n",
    "elapsed_time = time.time() - startTime\n",
    "train_times.append(elapsed_time)\n",
    "\n",
    "models.append(model)\n",
    "print(models[1])\n",
    "print(\"Time Required to Train the model: \" + str(train_times[1]))"
   ]
  },
  {
   "cell_type": "markdown",
   "metadata": {},
   "source": [
    "### 2.3.2. Model Training (With Parameter Tuning)"
   ]
  },
  {
   "cell_type": "markdown",
   "metadata": {},
   "source": [
    "The models are at a risk of overfitting since the parameters are selected randomly. The k fold cross-validation strategy alongwith parameter selection while training the model can ensure that the model does not get biased towards the data set. Using GridSearchCV for the two algorithms along with 5 fold cross-validation to make tuned models."
   ]
  },
  {
   "cell_type": "markdown",
   "metadata": {},
   "source": [
    "#### <font color=\"red\">a) Algorithm 1: *Naive Bayes Classification*</font>\n",
    "##### <font color=\"brown\">Multinomial Naive Bayes - Tune Model choosing best among ($alpha=1, 0.1, 0.01, 0.001, 0.0001, 0.00001$)</font>\n",
    "##### (where alpha is a hyperparameter which controls the form of model)"
   ]
  },
  {
   "cell_type": "markdown",
   "metadata": {},
   "source": [
    "The smoothing priors &alpha; &ge; 0 accounts for features not present in the learning samples and prevents zero probabilities in further computations. Setting &alpha; = 1 is called Laplace smoothing, while &alpha; < 1 is called Lidstone smoothing.<sup>[6]</sup> "
   ]
  },
  {
   "cell_type": "code",
   "execution_count": 49,
   "metadata": {},
   "outputs": [
    {
     "name": "stdout",
     "output_type": "stream",
     "text": [
      "GridSearchCV(cv=5, error_score='raise',\n",
      "       estimator=MultinomialNB(alpha=1.0, class_prior=None, fit_prior=True),\n",
      "       fit_params={}, iid=True, n_jobs=1,\n",
      "       param_grid=[{'alpha': [1, 0.1, 0.01, 0.001, 0.0001, 1e-05]}],\n",
      "       pre_dispatch='2*n_jobs', refit=True, return_train_score=True,\n",
      "       scoring=None, verbose=0)\n",
      "Time Required to Train the model: 0.7665276527404785\n"
     ]
    }
   ],
   "source": [
    "startTime = time.time()\n",
    "\n",
    "model = MultinomialNB()\n",
    "param_grid = [{'alpha':[1, 0.1, 0.01, 0.001, 0.0001, 0.00001]}]\n",
    "\n",
    "grid = GridSearchCV(model, param_grid, cv=5)\n",
    "grid.fit(dataset_train, target_train)\n",
    "\n",
    "# Find out elapsed time in finding training the model using Naive Bayes Classifier\n",
    "elapsed_time = time.time() - startTime\n",
    "tuned_train_times.append(elapsed_time)\n",
    "\n",
    "tuned_models.append(grid)\n",
    "print(tuned_models[0])\n",
    "print(\"Time Required to Train the model: \" + str(tuned_train_times[0]))"
   ]
  },
  {
   "cell_type": "markdown",
   "metadata": {},
   "source": [
    "#### <font color=\"red\">b) Algorithm 2: *LinearSVC Classification*</font>\n",
    "##### <font color=\"brown\">Support Vector Machine (LinearSVC) Tune Model choosing best among ($C=1, 10, 100, 1000$)</font>"
   ]
  },
  {
   "cell_type": "markdown",
   "metadata": {},
   "source": [
    "The pipeline module is used here for feature selection criteria and then classification. The SVM optimization is set using C parameter. It decides how much to avoid misclassifying each training example. <i>\"For large values of C, the optimization will choose a smaller-margin hyperplane if that hyperplane does a better job of getting all the training points classified correctly. Conversely, a very small value of C will cause the optimizer to look for a larger-margin separating hyperplane, even if that hyperplane misclassifies more points. For very tiny values of C, you should get misclassified examples, often even if your training data is linearly separable.\"</i><sup>[11]</sup>"
   ]
  },
  {
   "cell_type": "code",
   "execution_count": 50,
   "metadata": {},
   "outputs": [
    {
     "name": "stdout",
     "output_type": "stream",
     "text": [
      "GridSearchCV(cv=5, error_score='raise',\n",
      "       estimator=Pipeline(steps=[('feature_selection', SelectFromModel(estimator=LinearSVC(C=1.0, class_weight=None, dual=False, fit_intercept=True,\n",
      "     intercept_scaling=1, loss='squared_hinge', max_iter=1000,\n",
      "     multi_class='ovr', penalty='l1', random_state=None, tol=0.001,\n",
      "     verbose=0),\n",
      "        prefit=False, thresho...ax_iter=1000,\n",
      "     multi_class='ovr', penalty='l2', random_state=None, tol=0.0001,\n",
      "     verbose=0))]),\n",
      "       fit_params={}, iid=True, n_jobs=1,\n",
      "       param_grid=[{'classification__C': [1, 10, 100, 1000]}, {'classification__C': [1, 10, 100, 1000]}],\n",
      "       pre_dispatch='2*n_jobs', refit=True, return_train_score=True,\n",
      "       scoring=None, verbose=0)\n",
      "Time Required to Train the model: 14.411129474639893\n"
     ]
    }
   ],
   "source": [
    "startTime = time.time()\n",
    "\n",
    "model = Pipeline([\n",
    "  ('feature_selection', SelectFromModel(LinearSVC(penalty=\"l1\", dual=False,\n",
    "                                                  tol=1e-3))),\n",
    "  ('classification', LinearSVC(penalty=\"l2\"))])\n",
    "\n",
    "C_OPTIONS = [1, 10, 100, 1000]\n",
    "param_grid = [\n",
    "    {\n",
    "        'classification__C': C_OPTIONS\n",
    "    },\n",
    "    {\n",
    "        'classification__C': C_OPTIONS\n",
    "    },\n",
    "]\n",
    "\n",
    "grid = GridSearchCV(model, param_grid, cv=5)\n",
    "grid.fit(dataset_train, target_train)\n",
    "\n",
    "# Find out elapsed time in finding training the model using Naive Bayes Classifier\n",
    "elapsed_time = time.time() - startTime\n",
    "tuned_train_times.append(elapsed_time)\n",
    "\n",
    "tuned_models.append(grid)\n",
    "print(tuned_models[1])\n",
    "print(\"Time Required to Train the model: \" + str(tuned_train_times[1]))"
   ]
  },
  {
   "cell_type": "markdown",
   "metadata": {},
   "source": [
    "### <font color=\"red\">2.4. Comparing the predictions of the two classification models using an appropriate evaluation strategy</font>"
   ]
  },
  {
   "cell_type": "markdown",
   "metadata": {},
   "source": [
    "The following parameters will be used to evaluate the perfromace of the two classification models:\n",
    "1. Accuracy of Models for Simple Train/Test Splits\n",
    "    - Simple Model Accuracies\n",
    "    - Tuned Model Accuracies\n",
    "2. Evaluation Measures\n",
    "2. Cross Validation\n",
    "3. Visualizations"
   ]
  },
  {
   "cell_type": "markdown",
   "metadata": {},
   "source": [
    "### 2.4.1 Accuracy of Models for Simple Train/Test Splits"
   ]
  },
  {
   "cell_type": "markdown",
   "metadata": {},
   "source": [
    "Using the unseen test data to evaluate the models accuracy."
   ]
  },
  {
   "cell_type": "markdown",
   "metadata": {},
   "source": [
    "#### <font color=\"red\">a) Models with Default Parameters</font>"
   ]
  },
  {
   "cell_type": "markdown",
   "metadata": {},
   "source": [
    "#### Predict Values using two models  (Check if model is tranined and working)"
   ]
  },
  {
   "cell_type": "code",
   "execution_count": 51,
   "metadata": {},
   "outputs": [
    {
     "name": "stdout",
     "output_type": "stream",
     "text": [
      "Time Required to test MultinomialNB :0.003995418548583984\n",
      "\n",
      "Sample Predicted Classes Vs Actual Classes:\n",
      "Target \t\t [1 1 1 1 0 2 1 0 0 1 0 2 1 1 2]\n",
      "Predictions\t [1 1 1 1 0 2 1 0 0 1 0 2 1 1 2]\n",
      "\n",
      "Time Required to test LinearSVC :0.003998994827270508\n",
      "\n",
      "Sample Predicted Classes Vs Actual Classes:\n",
      "Target \t\t [1 1 1 1 0 2 1 0 0 1 0 2 1 1 2]\n",
      "Predictions\t [1 1 1 1 0 2 1 0 0 1 0 2 1 1 2]\n",
      "\n"
     ]
    }
   ],
   "source": [
    "# Predicting values using the two Algorithm\n",
    "\n",
    "test_times = []\n",
    "predictions = []\n",
    "for i in range(0,len(model_names)):\n",
    "    startTime = time.time()\n",
    "    predictions.append(models[i].predict(dataset_test))\n",
    "\n",
    "    # Find out elapsed time in testing the model using KNN Classifier\n",
    "    elapsed_time = time.time() - startTime\n",
    "    test_times.append(elapsed_time)\n",
    "\n",
    "    print(\"Time Required to test \"+ model_names[i] +\" :\" + str(test_times[i]))\n",
    "    print(\"\\nSample Predicted Classes Vs Actual Classes:\")\n",
    "    print(\"Target \\t\\t\",target_test[:15])\n",
    "    print(\"Predictions\\t\",predictions[i][:15])\n",
    "    print()"
   ]
  },
  {
   "cell_type": "markdown",
   "metadata": {},
   "source": [
    "#### Accuracy Scores for the two algorithms with default parameters"
   ]
  },
  {
   "cell_type": "markdown",
   "metadata": {},
   "source": [
    "Overall accuracy score for the predictions is the fraction of correct predictions. AccuracyScore Function returns a value between 0 (completely wrong) and 1 (predictions are 100% accurate):"
   ]
  },
  {
   "cell_type": "code",
   "execution_count": 52,
   "metadata": {},
   "outputs": [
    {
     "name": "stdout",
     "output_type": "stream",
     "text": [
      "Accuracy of MultinomialNB Classifier =\t0.9787\n",
      "\n",
      "Accuracy of LinearSVC Classifier =\t0.9811\n",
      "\n"
     ]
    }
   ],
   "source": [
    "#Accuracies for different classifiers\n",
    "accuracy_scores = []\n",
    "for m in range(0,len(model_names)):\n",
    "    accuracy_scores.append(accuracy_score(target_test, predictions[m]))\n",
    "    print(\"Accuracy of \"+model_names[m]+\" Classifier =\\t%.4f\" % accuracy_scores[m])\n",
    "    print()"
   ]
  },
  {
   "cell_type": "markdown",
   "metadata": {},
   "source": [
    "#### <font color=\"red\">b) Models with Parameter Tuning</font>"
   ]
  },
  {
   "cell_type": "markdown",
   "metadata": {},
   "source": [
    "#### Predict Values using two tuned models  (Check if model is tranined and working)"
   ]
  },
  {
   "cell_type": "code",
   "execution_count": 53,
   "metadata": {},
   "outputs": [
    {
     "name": "stdout",
     "output_type": "stream",
     "text": [
      "Time Required to test MultinomialNB :0.003996372222900391\n",
      "\n",
      "Sample Predicted Classes Vs Actual Classes:\n",
      "Target \t\t [1 1 1 1 0 2 1 0 0 1 0 2 1 1 2]\n",
      "Predictions\t [1 1 1 1 0 2 1 0 0 1 0 2 1 1 2]\n",
      "\n",
      "Time Required to test LinearSVC :0.006998300552368164\n",
      "\n",
      "Sample Predicted Classes Vs Actual Classes:\n",
      "Target \t\t [1 1 1 1 0 2 1 0 0 1 0 2 1 1 2]\n",
      "Predictions\t [2 1 1 1 0 2 1 0 0 0 0 2 1 1 2]\n",
      "\n"
     ]
    }
   ],
   "source": [
    "# Predicting values using the two Algorithm (Trained with cross-validation and parameter tuning)\n",
    "\n",
    "tuned_test_times = []\n",
    "tuned_predictions = []\n",
    "for i in range(0,len(model_names)):\n",
    "    startTime = time.time()\n",
    "    tuned_predictions.append(tuned_models[i].predict(dataset_test))\n",
    "\n",
    "    # Find out elapsed time in testing the model using KNN Classifier\n",
    "    elapsed_time = time.time() - startTime\n",
    "    tuned_test_times.append(elapsed_time)\n",
    "\n",
    "    print(\"Time Required to test \"+ model_names[i] +\" :\" + str(tuned_test_times[i]))\n",
    "    print(\"\\nSample Predicted Classes Vs Actual Classes:\")\n",
    "    print(\"Target \\t\\t\",target_test[:15])\n",
    "    print(\"Predictions\\t\",tuned_predictions[i][:15])\n",
    "    print()"
   ]
  },
  {
   "cell_type": "markdown",
   "metadata": {},
   "source": [
    "#### Accuracy Scores for the two algorithms"
   ]
  },
  {
   "cell_type": "code",
   "execution_count": 54,
   "metadata": {},
   "outputs": [
    {
     "name": "stdout",
     "output_type": "stream",
     "text": [
      "Accuracy of MultinomialNB Classifier =\t0.9787\n",
      "\n",
      "Accuracy of LinearSVC Classifier =\t0.9764\n",
      "\n"
     ]
    }
   ],
   "source": [
    "#Accuracies for different classifiers\n",
    "tuned_accuracy_scores = []\n",
    "for m in range(0,len(model_names)):\n",
    "    tuned_accuracy_scores.append(accuracy_score(target_test, tuned_predictions[m]))\n",
    "    print(\"Accuracy of \"+model_names[m]+\" Classifier =\\t%.4f\" % tuned_accuracy_scores[m])\n",
    "    print()"
   ]
  },
  {
   "cell_type": "markdown",
   "metadata": {},
   "source": [
    "As we can see, tuned models are perform better than the models with default parameters since it involves cross validation as well while selecting the grid parameters. We will be using tuned models for further evaluation."
   ]
  },
  {
   "cell_type": "markdown",
   "metadata": {},
   "source": [
    "### 2.4.2. Evaluation Measures"
   ]
  },
  {
   "cell_type": "markdown",
   "metadata": {},
   "source": [
    "#### Predicted Vs Actual Values"
   ]
  },
  {
   "cell_type": "markdown",
   "metadata": {},
   "source": [
    "Manual comparison of the target labels for the test data with the predictions could mislead. <br>\n",
    "For the comparison of algorithms we need to determine the extent to which the classifier made correct/incorrect predictions for N-Classes:\n",
    "- *<b>Correct Prediction</b>* are those which are labeled ``'0'`` which are actually ``'0'`` <br> or labelled as ``'1'`` which are actually ``'1'`` and so on\n",
    "- *<b>Incorrect Predictions</b>* are those which are labeled ``'1'`` which are actually ``'0'``  <br> or labelled as ``'1'`` which are actually ``'2'`` and so on"
   ]
  },
  {
   "cell_type": "code",
   "execution_count": 55,
   "metadata": {},
   "outputs": [
    {
     "name": "stdout",
     "output_type": "stream",
     "text": [
      "Predictions by MultinomialNB :\n",
      "Number of articles predicted as technology : 113\n",
      "Number of articles predicted as business : 150\n",
      "Number of articles predicted as sport : 160\n",
      "\n",
      "Predictions by LinearSVC :\n",
      "Number of articles predicted as technology : 110\n",
      "Number of articles predicted as business : 151\n",
      "Number of articles predicted as sport : 162\n",
      "\n",
      "Actual Class Labels:\n",
      "Number of articles predicted as technology : 110\n",
      "Number of articles predicted as business : 152\n",
      "Number of articles predicted as sport : 161\n"
     ]
    }
   ],
   "source": [
    "# Predictions made by different Classifiers\n",
    "for m in range(0,len(model_names)):\n",
    "    print(\"Predictions by \"+ model_names[m] +\" :\")\n",
    "    for i in range(0,len(labels)):\n",
    "        n = (tuned_predictions[m] == i).sum()\n",
    "        print( \"Number of articles predicted as \"+labels[i]+\" : \"  + str(n) )\n",
    "    print()\n",
    "    \n",
    "# Actual Class Labels\n",
    "print(\"Actual Class Labels:\")\n",
    "for i in range(0,len(labels)):\n",
    "    n = (target_test == i).sum()\n",
    "    print( \"Number of articles predicted as \"+labels[i]+\" : \"  + str(n) )"
   ]
  },
  {
   "cell_type": "markdown",
   "metadata": {},
   "source": [
    "#### Confusion Matrix Comparison"
   ]
  },
  {
   "cell_type": "markdown",
   "metadata": {},
   "source": [
    "Confusion matrix can be created for the results to verify correct or incorrect predictions. For N-Classes model( Example Classes=3), the values correspond to:\n",
    "\n",
    "    [ [C I I]\n",
    "    [I C I] \n",
    "    [I I C] ]\n",
    "    \n",
    "A perfect classifier with 100% accuracy would produce a pure diagonal matrix. It means all the labels for the test data were correctly predicted."
   ]
  },
  {
   "cell_type": "code",
   "execution_count": 56,
   "metadata": {},
   "outputs": [
    {
     "name": "stdout",
     "output_type": "stream",
     "text": [
      "Confusion Matrix Dataframe for MultinomialNB:\n"
     ]
    },
    {
     "data": {
      "text/html": [
       "<div>\n",
       "<style>\n",
       "    .dataframe thead tr:only-child th {\n",
       "        text-align: right;\n",
       "    }\n",
       "\n",
       "    .dataframe thead th {\n",
       "        text-align: left;\n",
       "    }\n",
       "\n",
       "    .dataframe tbody tr th {\n",
       "        vertical-align: top;\n",
       "    }\n",
       "</style>\n",
       "<table border=\"1\" class=\"dataframe\">\n",
       "  <thead>\n",
       "    <tr style=\"text-align: right;\">\n",
       "      <th>Predicted Labels</th>\n",
       "      <th>technology</th>\n",
       "      <th>business</th>\n",
       "      <th>sport</th>\n",
       "    </tr>\n",
       "    <tr>\n",
       "      <th>Actual Labels</th>\n",
       "      <th></th>\n",
       "      <th></th>\n",
       "      <th></th>\n",
       "    </tr>\n",
       "  </thead>\n",
       "  <tbody>\n",
       "    <tr>\n",
       "      <th>technology</th>\n",
       "      <td>108</td>\n",
       "      <td>1</td>\n",
       "      <td>1</td>\n",
       "    </tr>\n",
       "    <tr>\n",
       "      <th>business</th>\n",
       "      <td>5</td>\n",
       "      <td>147</td>\n",
       "      <td>0</td>\n",
       "    </tr>\n",
       "    <tr>\n",
       "      <th>sport</th>\n",
       "      <td>0</td>\n",
       "      <td>2</td>\n",
       "      <td>159</td>\n",
       "    </tr>\n",
       "  </tbody>\n",
       "</table>\n",
       "</div>"
      ],
      "text/plain": [
       "Predicted Labels  technology  business  sport\n",
       "Actual Labels                                \n",
       "technology               108         1      1\n",
       "business                   5       147      0\n",
       "sport                      0         2    159"
      ]
     },
     "metadata": {},
     "output_type": "display_data"
    },
    {
     "name": "stdout",
     "output_type": "stream",
     "text": [
      "\n",
      "Confusion Matrix Dataframe for LinearSVC:\n"
     ]
    },
    {
     "data": {
      "text/html": [
       "<div>\n",
       "<style>\n",
       "    .dataframe thead tr:only-child th {\n",
       "        text-align: right;\n",
       "    }\n",
       "\n",
       "    .dataframe thead th {\n",
       "        text-align: left;\n",
       "    }\n",
       "\n",
       "    .dataframe tbody tr th {\n",
       "        vertical-align: top;\n",
       "    }\n",
       "</style>\n",
       "<table border=\"1\" class=\"dataframe\">\n",
       "  <thead>\n",
       "    <tr style=\"text-align: right;\">\n",
       "      <th>Predicted Labels</th>\n",
       "      <th>technology</th>\n",
       "      <th>business</th>\n",
       "      <th>sport</th>\n",
       "    </tr>\n",
       "    <tr>\n",
       "      <th>Actual Labels</th>\n",
       "      <th></th>\n",
       "      <th></th>\n",
       "      <th></th>\n",
       "    </tr>\n",
       "  </thead>\n",
       "  <tbody>\n",
       "    <tr>\n",
       "      <th>technology</th>\n",
       "      <td>107</td>\n",
       "      <td>2</td>\n",
       "      <td>1</td>\n",
       "    </tr>\n",
       "    <tr>\n",
       "      <th>business</th>\n",
       "      <td>3</td>\n",
       "      <td>147</td>\n",
       "      <td>2</td>\n",
       "    </tr>\n",
       "    <tr>\n",
       "      <th>sport</th>\n",
       "      <td>0</td>\n",
       "      <td>2</td>\n",
       "      <td>159</td>\n",
       "    </tr>\n",
       "  </tbody>\n",
       "</table>\n",
       "</div>"
      ],
      "text/plain": [
       "Predicted Labels  technology  business  sport\n",
       "Actual Labels                                \n",
       "technology               107         2      1\n",
       "business                   3       147      2\n",
       "sport                      0         2    159"
      ]
     },
     "metadata": {},
     "output_type": "display_data"
    },
    {
     "name": "stdout",
     "output_type": "stream",
     "text": [
      "\n"
     ]
    }
   ],
   "source": [
    "# class targets\n",
    "class_targets = []\n",
    "for i in range(0,len(labels)):\n",
    "    class_targets.append(i)\n",
    "\n",
    "# Confusion Matrix for different Classifier\n",
    "cm = []\n",
    "for m in range(0,len(model_names)):\n",
    "    print(\"Confusion Matrix Dataframe for \"+model_names[m]+\":\")\n",
    "    df_cm = pd.DataFrame(confusion_matrix(target_test, tuned_predictions[m],labels=class_targets), columns=list(labels))\n",
    "    df_cm.columns.name = 'Predicted Labels'\n",
    "    df_cm['Actual Labels'] = labels\n",
    "    df_cm.set_index('Actual Labels', inplace=True)\n",
    "    display(df_cm)\n",
    "    cm.append(df_cm)\n",
    "    print()"
   ]
  },
  {
   "cell_type": "markdown",
   "metadata": {},
   "source": [
    "#### Measures for Information Retrieval for the two algorithms"
   ]
  },
  {
   "cell_type": "markdown",
   "metadata": {},
   "source": [
    "Measures from information retrieval can be used in Machine Learning evaluation. \n",
    "\n",
    "<i>Kindly Note: Every class label has their own set of values of these measures</i>\n",
    "<br>\n",
    "- *Precision*: proportion of retrieved results that are relevant = TP/(TP+FP)\n",
    "- *Recall*: proportion of relevant results that are retrieved = TP/(TP+FN)\n",
    "- *F-Score (F1-score with &beta;=1)*: There is often a trade-off between precision and recall. We can combine precision and recall into a single score using the *F1 Measure*, which is a weighted average of the precision and recall. The F1 Measure reaches its best value at 1 and worst at 0.\n",
    "\n",
    "    F1 = 2 * (precision * recall) / (precision + recall)\n",
    "    (where beta = 1)\n",
    "    \n",
    "Although, Scikit-learn provides the capability to find precision, recall, F1 measures separately, we will be using the single line classification report functionality to find out all the measures at once"
   ]
  },
  {
   "cell_type": "code",
   "execution_count": 57,
   "metadata": {
    "collapsed": true
   },
   "outputs": [],
   "source": [
    "# Function to convert text report to a dataframe\n",
    "import re\n",
    "from io import StringIO\n",
    "def report_to_df(report):\n",
    "    report = re.sub(r\" +\", \" \", report).replace(\"avg / total\", \"avg/total\").replace(\"\\n \", \"\\n\")\n",
    "    report_df = pd.read_csv(StringIO(\"Class\" + report), sep=' ')        \n",
    "    return(report_df)"
   ]
  },
  {
   "cell_type": "code",
   "execution_count": 58,
   "metadata": {},
   "outputs": [
    {
     "name": "stdout",
     "output_type": "stream",
     "text": [
      "\n",
      "Classification Report for MultinomialNB Classifier:\n"
     ]
    },
    {
     "data": {
      "text/html": [
       "<div>\n",
       "<style>\n",
       "    .dataframe thead tr:only-child th {\n",
       "        text-align: right;\n",
       "    }\n",
       "\n",
       "    .dataframe thead th {\n",
       "        text-align: left;\n",
       "    }\n",
       "\n",
       "    .dataframe tbody tr th {\n",
       "        vertical-align: top;\n",
       "    }\n",
       "</style>\n",
       "<table border=\"1\" class=\"dataframe\">\n",
       "  <thead>\n",
       "    <tr style=\"text-align: right;\">\n",
       "      <th></th>\n",
       "      <th>precision</th>\n",
       "      <th>recall</th>\n",
       "      <th>f1-score</th>\n",
       "      <th>support</th>\n",
       "    </tr>\n",
       "    <tr>\n",
       "      <th>Class</th>\n",
       "      <th></th>\n",
       "      <th></th>\n",
       "      <th></th>\n",
       "      <th></th>\n",
       "    </tr>\n",
       "  </thead>\n",
       "  <tbody>\n",
       "    <tr>\n",
       "      <th>technology</th>\n",
       "      <td>0.96</td>\n",
       "      <td>0.98</td>\n",
       "      <td>0.97</td>\n",
       "      <td>110</td>\n",
       "    </tr>\n",
       "    <tr>\n",
       "      <th>business</th>\n",
       "      <td>0.98</td>\n",
       "      <td>0.97</td>\n",
       "      <td>0.97</td>\n",
       "      <td>152</td>\n",
       "    </tr>\n",
       "    <tr>\n",
       "      <th>sport</th>\n",
       "      <td>0.99</td>\n",
       "      <td>0.99</td>\n",
       "      <td>0.99</td>\n",
       "      <td>161</td>\n",
       "    </tr>\n",
       "    <tr>\n",
       "      <th>avg/total</th>\n",
       "      <td>0.98</td>\n",
       "      <td>0.98</td>\n",
       "      <td>0.98</td>\n",
       "      <td>423</td>\n",
       "    </tr>\n",
       "  </tbody>\n",
       "</table>\n",
       "</div>"
      ],
      "text/plain": [
       "            precision  recall  f1-score  support\n",
       "Class                                           \n",
       "technology       0.96    0.98      0.97      110\n",
       "business         0.98    0.97      0.97      152\n",
       "sport            0.99    0.99      0.99      161\n",
       "avg/total        0.98    0.98      0.98      423"
      ]
     },
     "metadata": {},
     "output_type": "display_data"
    },
    {
     "name": "stdout",
     "output_type": "stream",
     "text": [
      "\n",
      "\n",
      "Classification Report for LinearSVC Classifier:\n"
     ]
    },
    {
     "data": {
      "text/html": [
       "<div>\n",
       "<style>\n",
       "    .dataframe thead tr:only-child th {\n",
       "        text-align: right;\n",
       "    }\n",
       "\n",
       "    .dataframe thead th {\n",
       "        text-align: left;\n",
       "    }\n",
       "\n",
       "    .dataframe tbody tr th {\n",
       "        vertical-align: top;\n",
       "    }\n",
       "</style>\n",
       "<table border=\"1\" class=\"dataframe\">\n",
       "  <thead>\n",
       "    <tr style=\"text-align: right;\">\n",
       "      <th></th>\n",
       "      <th>precision</th>\n",
       "      <th>recall</th>\n",
       "      <th>f1-score</th>\n",
       "      <th>support</th>\n",
       "    </tr>\n",
       "    <tr>\n",
       "      <th>Class</th>\n",
       "      <th></th>\n",
       "      <th></th>\n",
       "      <th></th>\n",
       "      <th></th>\n",
       "    </tr>\n",
       "  </thead>\n",
       "  <tbody>\n",
       "    <tr>\n",
       "      <th>technology</th>\n",
       "      <td>0.97</td>\n",
       "      <td>0.97</td>\n",
       "      <td>0.97</td>\n",
       "      <td>110</td>\n",
       "    </tr>\n",
       "    <tr>\n",
       "      <th>business</th>\n",
       "      <td>0.97</td>\n",
       "      <td>0.97</td>\n",
       "      <td>0.97</td>\n",
       "      <td>152</td>\n",
       "    </tr>\n",
       "    <tr>\n",
       "      <th>sport</th>\n",
       "      <td>0.98</td>\n",
       "      <td>0.99</td>\n",
       "      <td>0.98</td>\n",
       "      <td>161</td>\n",
       "    </tr>\n",
       "    <tr>\n",
       "      <th>avg/total</th>\n",
       "      <td>0.98</td>\n",
       "      <td>0.98</td>\n",
       "      <td>0.98</td>\n",
       "      <td>423</td>\n",
       "    </tr>\n",
       "  </tbody>\n",
       "</table>\n",
       "</div>"
      ],
      "text/plain": [
       "            precision  recall  f1-score  support\n",
       "Class                                           \n",
       "technology       0.97    0.97      0.97      110\n",
       "business         0.97    0.97      0.97      152\n",
       "sport            0.98    0.99      0.98      161\n",
       "avg/total        0.98    0.98      0.98      423"
      ]
     },
     "metadata": {},
     "output_type": "display_data"
    },
    {
     "name": "stdout",
     "output_type": "stream",
     "text": [
      "\n"
     ]
    }
   ],
   "source": [
    "classification_reports = []\n",
    "temp = list(labels) + [\"avg/total\"]\n",
    "for m in range(0,len(model_names)):\n",
    "    print(\"\\nClassification Report for \"+model_names[m]+\" Classifier:\")\n",
    "    #txt report to df\n",
    "    report = classification_report(target_test, tuned_predictions[m])\n",
    "    classification_reports.append(report_to_df(report))    \n",
    "    classification_reports[m][\"Class\"] = temp\n",
    "    classification_reports[m].set_index(\"Class\", inplace=True)\n",
    "    display(classification_reports[m])\n",
    "    print()"
   ]
  },
  {
   "cell_type": "markdown",
   "metadata": {},
   "source": [
    "### 2.4.3. Cross Validation"
   ]
  },
  {
   "cell_type": "markdown",
   "metadata": {},
   "source": [
    "A problem with simply randomly splitting a dataset into two sets is that each random split might give different results. We are also ignoring a portion of the dataset.<br> *k-fold cross-validation* helps to evaluate a classifier by adressing this issue. <br>Steps for finding acuracy using *k-fold cross-validation* are:\n",
    "1. Divide the data into k disjoint subsets - \"folds\" (in this case k=5)\n",
    "2. For each of k experiments, use k-1 folds for training and the selected one fold for testing.\n",
    "3. Repeat for all k folds, average the accuracy/error rates.\n",
    "<br><br> Scikit-Learn provides the capability to perfrom this step in one single step where we need to pass dataset, model and value of \"k-folds\" "
   ]
  },
  {
   "cell_type": "code",
   "execution_count": 59,
   "metadata": {},
   "outputs": [
    {
     "name": "stdout",
     "output_type": "stream",
     "text": [
      "[ 0.97887324  0.99288256  0.96085409  0.98220641  0.98220641]\n",
      "Mean 5-fold Cross-Validation Accuracy of MultinomialNB Classifier = 0.9794\n",
      "\n",
      "[ 0.97887324  0.97508897  0.97508897  0.98220641  0.97864769]\n",
      "Mean 5-fold Cross-Validation Accuracy of LinearSVC Classifier = 0.9780\n",
      "\n"
     ]
    }
   ],
   "source": [
    "cross_validation_scores = []\n",
    "cross_validation_accuracy = []\n",
    "for m in range(0,len(model_names)):\n",
    "    acc_scores =  cross_val_score(tuned_models[m], X, target, cv=5)\n",
    "    print(acc_scores)\n",
    "\n",
    "    # Saving cross-validation values\n",
    "    cross_validation_scores.append(acc_scores)\n",
    "    \n",
    "    # Saving Cross Validatin Accuracy by finding mean of accuracy observed\n",
    "    cross_validation_accuracy.append(acc_scores.mean())\n",
    "    print(\"Mean 5-fold Cross-Validation Accuracy of \"+model_names[m]+\" Classifier = %.4f\" % cross_validation_accuracy[m])\n",
    "    print()"
   ]
  },
  {
   "cell_type": "markdown",
   "metadata": {},
   "source": [
    "### 2.4.4. Vizualizations"
   ]
  },
  {
   "cell_type": "markdown",
   "metadata": {},
   "source": [
    "#### <u>Plot 1: Comparing Number of articles for different categories</u>"
   ]
  },
  {
   "cell_type": "markdown",
   "metadata": {},
   "source": [
    "Plotting the count of all available categories"
   ]
  },
  {
   "cell_type": "code",
   "execution_count": 60,
   "metadata": {},
   "outputs": [
    {
     "data": {
      "image/png": "[encoded data removed]",
      "text/plain": [
       "<matplotlib.figure.Figure at 0x21b08b30a20>"
      ]
     },
     "metadata": {},
     "output_type": "display_data"
    }
   ],
   "source": [
    "fig_categories = df.groupby('category').name.count().plot.bar(figsize=(6,5),fontsize=14, color='purple')\n",
    "fig_categories.set_xlabel(\"Categories\",fontsize=14)\n",
    "fig_categories.set_ylabel(\"Articles Count\",fontsize=14)\n",
    "\n",
    "plt.suptitle(\"Articles Count by Category\",fontsize=20)\n",
    "plt.savefig('graphs/category_count.png',dpi=100, bbox_inches='tight')"
   ]
  },
  {
   "cell_type": "markdown",
   "metadata": {},
   "source": [
    "This figure shows the count of articles per category. This also illustrates that there is a class imbalance where we do not have equal number of documents for sports, business and technology classes. \n",
    "<br>Arranging categories based on number of articles present (from more to less):<br>\n",
    "*Sports > Business > Technology*"
   ]
  },
  {
   "cell_type": "markdown",
   "metadata": {},
   "source": [
    "#### <u>Plot 2: Comparing Word Clouds for different categories</u>"
   ]
  },
  {
   "cell_type": "markdown",
   "metadata": {},
   "source": [
    "Plotting to visualize significant terms based on their frequency of occurence. The dataset used was cleaned already and the clean corpus is used to create wordcloud and hence parameters for stopwords removal is not required. "
   ]
  },
  {
   "cell_type": "code",
   "execution_count": 61,
   "metadata": {},
   "outputs": [
    {
     "data": {
      "image/png": "[encoded data removed]",
      "text/plain": [
       "<matplotlib.figure.Figure at 0x21b08b22470>"
      ]
     },
     "metadata": {},
     "output_type": "display_data"
    },
    {
     "data": {
      "image/png": "[encoded data removed]",
      "text/plain": [
       "<matplotlib.figure.Figure at 0x21b08a3fc88>"
      ]
     },
     "metadata": {},
     "output_type": "display_data"
    },
    {
     "data": {
      "image/png": "[encoded data removed]",
      "text/plain": [
       "<matplotlib.figure.Figure at 0x21b08774c18>"
      ]
     },
     "metadata": {},
     "output_type": "display_data"
    }
   ],
   "source": [
    "# Create ./graphs for storing plots\n",
    "os.makedirs(os.getcwd() + \"/graphs\", exist_ok=True)            \n",
    "\n",
    "# Word Cloud Category Wise to get most-significant terms\n",
    "fig = plt.figure()\n",
    "for i in range(0,len(labels)):\n",
    "    wordcloud = WordCloud(background_color='white',\n",
    "                          width=6000,\n",
    "                          height=3000\n",
    "                         ).generate(category_concated_documents[i])\n",
    "    plt.imshow(wordcloud)\n",
    "    plt.axis('off')\n",
    "    plt.title(\"Word Cloud for Category: '\"+labels[i]+\"'\\n\", fontsize=22)\n",
    "    plt.savefig(\"graphs/WordCloud_\"+ labels[i] +\".png\",dpi=100, bbox_inches='tight')\n",
    "    plt.show()"
   ]
  },
  {
   "cell_type": "markdown",
   "metadata": {},
   "source": [
    "The images above shows word clouds for the different categories. The most significant terms can be recognized immediatly from wordcloud. The above images have word clouds for the categories: technology, business, sports. "
   ]
  },
  {
   "cell_type": "markdown",
   "metadata": {},
   "source": [
    "#### <u>Plot 3: Cosine Similarities for the different categories</u>"
   ]
  },
  {
   "cell_type": "markdown",
   "metadata": {},
   "source": [
    "Plotting cosine similarity in a heat map for comparing the similarity of the categories."
   ]
  },
  {
   "cell_type": "code",
   "execution_count": 62,
   "metadata": {},
   "outputs": [
    {
     "data": {
      "image/png": "[encoded data removed]",
      "text/plain": [
       "<matplotlib.figure.Figure at 0x21b08b22080>"
      ]
     },
     "metadata": {},
     "output_type": "display_data"
    }
   ],
   "source": [
    "fig_cosine, ax = plt.subplots(figsize=(9,6))\n",
    "fig_cosine.suptitle(\"Cosine Similarity Matrix\", fontsize=20, verticalalignment='bottom')\n",
    "sns.heatmap(cosine_matrix, annot=True, fmt=\"g\", cmap=matplotlib.cm.Wistia)\n",
    "fig_cosine.savefig('graphs/cosine_similarity.png', dpi=100, bbox_inches='tight')\n",
    "plt.show(fig_cosine)"
   ]
  },
  {
   "cell_type": "markdown",
   "metadata": {},
   "source": [
    "The plot shows the similarity between the two categories. It can be seen from the heat map that the same categories have a similarity score of 1 and the different categories have different scores."
   ]
  },
  {
   "cell_type": "markdown",
   "metadata": {},
   "source": [
    "#### <u>Plot 4: Benchmarking for the two Algorithms</u>"
   ]
  },
  {
   "cell_type": "markdown",
   "metadata": {},
   "source": [
    "To compare the performace of the classification algorithms used"
   ]
  },
  {
   "cell_type": "code",
   "execution_count": 63,
   "metadata": {},
   "outputs": [
    {
     "data": {
      "text/html": [
       "<div>\n",
       "<style>\n",
       "    .dataframe thead tr:only-child th {\n",
       "        text-align: right;\n",
       "    }\n",
       "\n",
       "    .dataframe thead th {\n",
       "        text-align: left;\n",
       "    }\n",
       "\n",
       "    .dataframe tbody tr th {\n",
       "        vertical-align: top;\n",
       "    }\n",
       "</style>\n",
       "<table border=\"1\" class=\"dataframe\">\n",
       "  <thead>\n",
       "    <tr style=\"text-align: right;\">\n",
       "      <th></th>\n",
       "      <th>5-fold Cross-Validation Accuracy</th>\n",
       "      <th>Accuracy(Default Parameters)</th>\n",
       "      <th>Accuracy(Tuned Parameters)</th>\n",
       "    </tr>\n",
       "    <tr>\n",
       "      <th>Model</th>\n",
       "      <th></th>\n",
       "      <th></th>\n",
       "      <th></th>\n",
       "    </tr>\n",
       "  </thead>\n",
       "  <tbody>\n",
       "    <tr>\n",
       "      <th>MultinomialNB</th>\n",
       "      <td>0.979405</td>\n",
       "      <td>0.978723</td>\n",
       "      <td>0.978723</td>\n",
       "    </tr>\n",
       "    <tr>\n",
       "      <th>LinearSVC</th>\n",
       "      <td>0.977981</td>\n",
       "      <td>0.981087</td>\n",
       "      <td>0.976359</td>\n",
       "    </tr>\n",
       "  </tbody>\n",
       "</table>\n",
       "</div>"
      ],
      "text/plain": [
       "               5-fold Cross-Validation Accuracy  Accuracy(Default Parameters)  \\\n",
       "Model                                                                           \n",
       "MultinomialNB                          0.979405                      0.978723   \n",
       "LinearSVC                              0.977981                      0.981087   \n",
       "\n",
       "               Accuracy(Tuned Parameters)  \n",
       "Model                                      \n",
       "MultinomialNB                    0.978723  \n",
       "LinearSVC                        0.976359  "
      ]
     },
     "metadata": {},
     "output_type": "display_data"
    }
   ],
   "source": [
    "# Converting accuracies to a dataframe\n",
    "df_accuracy = pd.DataFrame(columns=[\"5-fold Cross-Validation Accuracy\",\n",
    "                                    \"Accuracy(Default Parameters)\", \n",
    "                                    \"Accuracy(Tuned Parameters)\"])\n",
    "df_accuracy[\"5-fold Cross-Validation Accuracy\"] = cross_validation_accuracy\n",
    "df_accuracy[\"Accuracy(Default Parameters)\"] = accuracy_scores\n",
    "df_accuracy[\"Accuracy(Tuned Parameters)\"] = tuned_accuracy_scores\n",
    "df_accuracy[\"Model\"] = model_names\n",
    "df_accuracy.set_index(\"Model\", inplace=True)\n",
    "display(df_accuracy)"
   ]
  },
  {
   "cell_type": "code",
   "execution_count": 64,
   "metadata": {},
   "outputs": [
    {
     "data": {
      "image/png": "[encoded data removed]",
      "text/plain": [
       "<matplotlib.figure.Figure at 0x21b086ea898>"
      ]
     },
     "metadata": {},
     "output_type": "display_data"
    }
   ],
   "source": [
    "# Plotting Accuracies for two models\n",
    "axes = df_accuracy.plot.barh(figsize=(10,4))\n",
    "axes.set_xlabel(\"Accuaccy\",fontsize=14)\n",
    "axes.set_ylabel(\"Model Name\",fontsize=14)\n",
    "axes.set_title(\"Accuracy of Models\",fontsize=20)\n",
    "axes.legend(loc='upper center', bbox_to_anchor=(0.5, 1), ncol=3)\n",
    "plt.savefig('graphs/accuracy.png',dpi=100, bbox_inches='tight')\n"
   ]
  },
  {
   "cell_type": "markdown",
   "metadata": {},
   "source": [
    "The graph ilustrates a comparison between overall accuracy of the two models alongwith the cross-validation accuracy. This can help to understand how the models behave if only "
   ]
  },
  {
   "cell_type": "markdown",
   "metadata": {},
   "source": [
    "#### <u>Plot 5: Execution Times Comparison</u>"
   ]
  },
  {
   "cell_type": "markdown",
   "metadata": {},
   "source": [
    "Compare the time taken to train and test the models"
   ]
  },
  {
   "cell_type": "code",
   "execution_count": 65,
   "metadata": {
    "collapsed": true
   },
   "outputs": [],
   "source": [
    "indices = np.arange(len(models))\n",
    "\n",
    "training_time = np.array(train_times) / np.max(train_times)\n",
    "testing_time = np.array(test_times) / np.max(test_times)\n",
    "\n",
    "tuned_training_time = np.array(tuned_train_times) / np.max(tuned_train_times)\n",
    "tuned_testing_time = np.array(tuned_test_times) / np.max(tuned_test_times)"
   ]
  },
  {
   "cell_type": "code",
   "execution_count": 66,
   "metadata": {},
   "outputs": [
    {
     "data": {
      "image/png": "[encoded data removed]",
      "text/plain": [
       "<matplotlib.figure.Figure at 0x21b083f7390>"
      ]
     },
     "metadata": {},
     "output_type": "display_data"
    }
   ],
   "source": [
    "fig_times, ax = plt.subplots(1,2)\n",
    "fig_times.suptitle(\"Normalized Execution Times\", fontsize=20, verticalalignment='bottom')\n",
    "\n",
    "ax[0].figure.set_size_inches(15, 5)\n",
    "ax[0].set_title(\"Models with Default parameters\", fontsize=20)\n",
    "ax[0].bar(indices + .3, training_time, .2, label=\"Training time\")\n",
    "ax[0].bar(indices + .6, testing_time, .2, label=\"Testing time\")\n",
    "ax[0].set_xticks(())\n",
    "ax[0].legend(loc='upper center')\n",
    "\n",
    "ax[1].figure.set_size_inches(15, 5)\n",
    "ax[1].set_title(\"Models with Tuned parameters\", fontsize=20)\n",
    "ax[1].bar(indices + .3, tuned_training_time, .2, label=\"Training time\")\n",
    "ax[1].bar(indices + .6, tuned_testing_time, .2, label=\"Testing time\")\n",
    "ax[1].set_xticks(())\n",
    "ax[1].legend(loc='upper center')\n",
    "\n",
    "for i, c in zip(indices, model_names):\n",
    "    ax[0].text(i+0.2,-.1, c)\n",
    "    ax[1].text(i+0.2,-.1, c)\n",
    "fig_times.savefig('graphs/execution_times.png', dpi=100, bbox_inches='tight')\n",
    "plt.show(fig_times)"
   ]
  },
  {
   "cell_type": "markdown",
   "metadata": {},
   "source": [
    "Comparison between the execution times for the different algorithms. Comparing Training time to the test time. "
   ]
  },
  {
   "cell_type": "markdown",
   "metadata": {},
   "source": [
    "#### <u>Plot 6: Heat Map for Confusion Matrix</u>"
   ]
  },
  {
   "cell_type": "markdown",
   "metadata": {},
   "source": [
    "Confusion Matrices comparison for the different algorithms used"
   ]
  },
  {
   "cell_type": "code",
   "execution_count": 67,
   "metadata": {},
   "outputs": [
    {
     "data": {
      "image/png": "[encoded data removed]",
      "text/plain": [
       "<matplotlib.figure.Figure at 0x21b0879e9b0>"
      ]
     },
     "metadata": {},
     "output_type": "display_data"
    }
   ],
   "source": [
    "fig_heatMap, ax = plt.subplots(1,len(model_names))\n",
    "fig_heatMap.suptitle(\"Visual Representation of Confusion Matrices\", fontsize=20, verticalalignment='bottom')\n",
    "for m in range(0,len(model_names)):\n",
    "    sns.heatmap(cm[m], annot=True, fmt=\"g\", cmap=matplotlib.cm.Wistia, ax=ax[m])\n",
    "    ax[m].figure.set_size_inches(15, 5)\n",
    "    ax[m].set_title(model_names[m], fontsize=15)\n",
    "fig_heatMap.savefig('graphs/confusion_matrix.png', dpi=100, bbox_inches='tight')\n",
    "plt.show(fig_heatMap)"
   ]
  },
  {
   "cell_type": "markdown",
   "metadata": {},
   "source": [
    "The image illustrated the confusion matrix for the two classification algorithm. The high concentration on diagonals represent efficienct algorithms as they produced high number of True-Positives."
   ]
  },
  {
   "cell_type": "markdown",
   "metadata": {},
   "source": [
    "#### <u>Plot 7: Comparison for Precision, Recall and F1-Measure for the two algorithms</u>"
   ]
  },
  {
   "cell_type": "code",
   "execution_count": 68,
   "metadata": {
    "collapsed": true
   },
   "outputs": [],
   "source": [
    "def get_measures(measure):\n",
    "    '''\n",
    "    Function to get a dataframe for the requested measure for comparative study between different models\n",
    "    '''\n",
    "    cr = pd.DataFrame()\n",
    "    for m in range(0,len(model_names)):\n",
    "        cr = cr.append(classification_reports[m][measure], ignore_index=True)\n",
    "    cr[\"Model\"] = model_names\n",
    "    cr.set_index(\"Model\", inplace=True)\n",
    "    return cr.T"
   ]
  },
  {
   "cell_type": "code",
   "execution_count": 69,
   "metadata": {},
   "outputs": [
    {
     "data": {
      "image/png": "[encoded data removed]",
      "text/plain": [
       "<matplotlib.figure.Figure at 0x21b0860b550>"
      ]
     },
     "metadata": {},
     "output_type": "display_data"
    }
   ],
   "source": [
    "fig_measures, ax6 = plt.subplots(1,3)\n",
    "get_measures(\"precision\").plot.bar(ax=ax6[0], legend=False,figsize=(15,3), color=['y','g'])\n",
    "get_measures(\"recall\").plot.bar(ax=ax6[1], legend=False, color=['y','g'])\n",
    "get_measures(\"f1-score\").plot.bar(ax=ax6[2], legend=False, color=['y','g'])\n",
    "\n",
    "ax6[0].set_title(\"Precision \",fontsize=20)\n",
    "ax6[1].set_title(\"Recall\",fontsize=20)\n",
    "ax6[2].set_title(\"F1-Score\",fontsize=20)\n",
    "\n",
    "ax6[0].set_ylabel(\"Accuaccy\",fontsize=14)\n",
    "ax6[2].legend(loc='upper center', bbox_to_anchor=(0.45, 1.30), ncol=2, fontsize=12)\n",
    "fig_measures.text(0.5, -0.25, 'Class Labels', fontsize=14)\n",
    "fig_measures.text(0.40, 1.05, 'Evaluation Measures', fontsize=24)\n",
    "plt.savefig('graphs/evaluation_measures.png',dpi=100, bbox_inches='tight')\n",
    "plt.show(fig_measures)"
   ]
  },
  {
   "cell_type": "markdown",
   "metadata": {},
   "source": [
    "The graph shows the comparision between different Evaluation Measures for better comparison between them."
   ]
  },
  {
   "cell_type": "markdown",
   "metadata": {},
   "source": [
    "## <font color=\"red\">Interpretations and Conclusions</font>"
   ]
  },
  {
   "cell_type": "markdown",
   "metadata": {},
   "source": [
    "### Inferences and Interpretations"
   ]
  },
  {
   "cell_type": "markdown",
   "metadata": {},
   "source": [
    "<b>Plot 1: Corpus Summary - Category wise articles count</b><br>\n",
    "* The articles that belong to the different categories are not equals and the classes are imbalanced. \n",
    "* Algorithms could be biased towards the class which is having more records, for example sports category has the maximum number of articles and technology category has minimum number of articles. "
   ]
  },
  {
   "cell_type": "markdown",
   "metadata": {},
   "source": [
    "<b>Plot 2: Word Cloud </b><br>\n",
    "* The words in the word clouds depict the documents related to a category has words related to that field. \n",
    "* Similary, the other word clouds also show the words that representing those categories which shows we can use the words in the corpus to classify new incoming documents into the available categories. \n",
    "<br><br>For example: most occuring words in 'Sports' category are: game, player, time, win. "
   ]
  },
  {
   "cell_type": "markdown",
   "metadata": {},
   "source": [
    "<b>Plot 3: Cosine Similarity</b><br>\n",
    "* From the graphs it can be inferred that the categorical data that we have is dissimilar. Hence, classification models should work well on this data set. \n",
    "* Sports category is most un-related to the other categories probably because sports category has more number of articles and can be distinguished well as compared to other categories. \n",
    "* Technology and business are also not very similar with a similarity score of 0.67"
   ]
  },
  {
   "cell_type": "markdown",
   "metadata": {},
   "source": [
    "<b>Plot 4: Comparison of Accuracies of the models</b><br>\n",
    "* The two models used are Multinomial Naive Bayes and LinearSVC from SVM module. Both the models are highly accurate for the classifying test data. \n",
    "* Not only Overall accuracy for both the models are high, the 5-fold cross validation accuracies are very high. \n",
    "* After tuning the models, the accuracy for LinearSVC reduced. It is possible that simple model was overfitting due to class imbalance. But the improvement is quite marginal.\n",
    "* Both the models have 5-fold cross validation accuracies close to (97.80 ± 0.1 %).\n",
    "* There is no clear winner in terms of accuracy for the two algorithms because for each iteration, their accuracies fluctuates but still they both perform in the similar range of ( 98 ± 0.5 % )"
   ]
  },
  {
   "cell_type": "markdown",
   "metadata": {},
   "source": [
    "<b>Plot 5: Comparison of Execution Times of the models</b><br>\n",
    "* The two models used are Multinomial Naive Bayes and LinearSVC from SVM module. As we saw earlier, both the models are highly accurate but the execution times of the two algorithms differ very much. We are comparing the normalized values of execution times in the graph for better comparison.\n",
    "\n",
    "##### `1. Models with Default Parameters`\n",
    "* <u>Training Time:</u><br>\n",
    "> Training Time for :  *(Multinomial Naive Bayes < LinearSVC clearly)*<br>\n",
    "The reason behind more time required by LinearSVC is that it involved two steps to train a model. First step was to select features and the second was to build the classification model using Pipeline module from scikit-learn. \n",
    "Also the Naive Bayes classifier is a probablistic model and is faster to train.\n",
    "* <u>Testing Time:</u><br>\n",
    "> Testing Time for :  *(Multinomial Naive Bayes ~= LinearSVC clearly)*<br>\n",
    "Both the algorithms took similar time and none of them is a clear winner.\n",
    "\n",
    "##### `2. Model with Parameter Tuning`\n",
    "* <u>Training Time:</u><br>\n",
    "> Training Time for :  *(Multinomial Naive Bayes < LinearSVC clearly)*<br>\n",
    "Clearly, both the classification algorithm took a lot more time to train as compared to algorithms with default parameters becuase the parameter tuning for the algorithms involved cross-validation which accounts for most of the time. \n",
    "Again, Naive Bayes was faster to train being less complex model and just one paramter required to be tuned.\n",
    "* <u>Testing Time:</u><br>\n",
    "> Testing Time for :  *(Multinomial Naive Bayes > LinearSVC clearly)*<br>\n",
    "LinearSVC clearly took a lot more time to classify documents as compared to Multinomial Naive Bayes which shows naive bayes can perfrom faster than LinearSVC after parameter tuning. \n"
   ]
  },
  {
   "cell_type": "markdown",
   "metadata": {},
   "source": [
    "<b>Plot 6: Comparison of Confusion Matrices for the models</b><br>\n",
    "* The two models used are Multinomial Naive Bayes and LinearSVC from SVM module. The algorithms classified most of the documents correctly. \n",
    "* The high concentraton of predictions accross the diagonal shows the classifiers performed really well and none of them is clear winner.\n",
    "* However, the models were able to identify most of the 'sports' articles correctly. This is related to the Plot 1 which shows maximum number of articles belong to sports categories."
   ]
  },
  {
   "cell_type": "markdown",
   "metadata": {},
   "source": [
    "<b>Plot 7: Sub-Plots Comparison of Evaluation Measures</b><br>\n",
    "* <u>Precision:</u> For Naive Bayes, precison is marginally higher than the Linear SVC algorithm in business and sports. For technology, LinearSVC performed better. However, on an average both the models performed same.  \n",
    "* <u>Recall:</u> It is almost same for both the algorithms but here Naive Bayes gave a better recall for technology as compared to Linear SVC algorithm. Also, precision is inversely proportional to recall. If precision increases, recall decreases. Hence, higher recall means lower precision. Average recall for both the models is same again.\n",
    "* <u>F1-Measure:</u> It is the harmonic mean of precision and recall and helps to maintain a balance between precision and recall. Both the algorithms performed equally well."
   ]
  },
  {
   "cell_type": "markdown",
   "metadata": {},
   "source": [
    "### Conclusions"
   ]
  },
  {
   "cell_type": "markdown",
   "metadata": {},
   "source": [
    "* Due to class imbalance, majority class can be helpful in building classification models that gives high prediction accuracy for the majority class. Also, we get an understanding that the classifier should maintain reasonable accuracy for the minority classes as well. This dataset is small and for large dataset under-sampling may be used to avoid such class imbalance.  \n",
    "* Words are very useful features to categorize data using Supervised Machine Learning. The words that are highly visible in the respective word clouds proves that words represent a category. \n",
    "* Low Cosine similarity score means they are dissimilar but in sometimes it fails when context meaning cannot be contained in the bag of words model. However, for our data the models worked very well and the categories are actually dissimilar.\n",
    "* Multinomial Naive Bayes and LinearSVC are highly accepted algorithms for text classifications. Other algorithms such as Decision Trees, KNN or other algorithms may not perform very well as we have sparse feature matrix (i.e. Bag of Words model).\n",
    "* Choosing an algorithm can depend on our requirements: \n",
    ">    1. If less time is available to spend on training examples then Naive Bayes can be used as Naive Bayes can scale easily due to classification based on probabilistic model. \n",
    ">    2. If better accuracy is required, Multinomial Naive Bayes can be used. For our dataset, this difference can be ignored for very small values because dataset does not contain any critical information like medical reports. But in general, SVM can perform really well for text classification as it accepts kernel function ('Linear' in our case)\n",
    ">    3. If faster implementation is required then Naive Bayes can be chosen because tuning LinearSVC is very difficult on the other hand tuning Naive Bayes is a very easy task. "
   ]
  },
  {
   "cell_type": "markdown",
   "metadata": {},
   "source": [
    "## <font color=\"red\">Appendix</font>\n",
    "#### *Algorithms* chosen for the project are highly recommended algorithms for text classification.<br><br> But both of them have pros and cons which are:"
   ]
  },
  {
   "cell_type": "markdown",
   "metadata": {},
   "source": [
    "<b>Naive Bayes Algorithm for Text Classification:</b>\n",
    "- Advantages<sup>[7]</sup>\n",
    "> - Very Simple and easy to implement\n",
    "> - Need less training data\n",
    "> - If the NB conditional independence assumption holds, then it will converge quickly\n",
    "> - Highly scalable. It scales linearly with the number of predictors and data points (as seen can be trained quickly)\n",
    "> - Multi-class classification problems can also be solved using Naive Bayes (as in our example)\n",
    "> - Not sensitive to irrelevant features.\n",
    "\n",
    "- Disadvantages<sup>[8][9]</sup>\n",
    "> - Naive Bayes is based on the independence assumptions. The conditional independence assumption states that features are independent of each other given the class.\n",
    "> - We need to estimate the likelihood value by a frequentist approach for any possible value of a feature. This can result in probabilities going towards 0 or 1, which in turn leads to numerical instabilities and worse results. However, we resolved this by using Lidstone smoothening."
   ]
  },
  {
   "cell_type": "markdown",
   "metadata": {},
   "source": [
    "<b>SVM (kernal='Linear') for Text Classification:</b><sup>[10]</sup>\n",
    "- Advantages\n",
    "> - Works well with even unstructured and semi structured data like text, Images and trees.\n",
    "> - Allows to pass the kernel function and an appropriate Kernel function can help to solve any complex problem.\n",
    "> - It scales relatively well to high dimensional data. (As in out case, high number of features)\n",
    "> - The risk of overfitting is less in SVM using simple kernel function *'Linear'* for small dataset and universal kernel function *'Radial Basis Function (RBF)'* for complex problems \n",
    "- Disadvantages\n",
    "> - Tuning the parameters/ kernel function can be cumbersome.\n",
    "> - Long training time is required for larger datasets."
   ]
  },
  {
   "cell_type": "markdown",
   "metadata": {},
   "source": [
    "#### References:\n",
    "\n",
    "1. Slides by Mr. Derek Greene for Module Data Science in Python (University College Dublin)\n",
    "2. http://pandas.pydata.org/\n",
    "3. http://scikit-learn.org/stable/modules/feature_extraction.html\n",
    "4. https://matplotlib.org/\n",
    "5. https://seaborn.pydata.org/generated/seaborn.heatmap.html\n",
    "6. http://scikit-learn.org/stable/modules/naive_bayes.html\n",
    "7. https://www.quora.com/What-are-the-advantages-of-using-a-naive-Bayes-for-classification\n",
    "8. https://nlp.stanford.edu/IR-book/html/htmledition/properties-of-naive-bayes-1.html\n",
    "9. https://www.quora.com/What-are-the-disadvantages-of-using-a-naive-bayes-for-classificatio\n",
    "10. https://statinfer.com/204-6-8-svm-advantages-disadvantages-applications/\n",
    "11. https://stats.stackexchange.com/questions/31066/what-is-the-influence-of-c-in-svms-with-linear-kernel"
   ]
  },
  {
   "cell_type": "code",
   "execution_count": null,
   "metadata": {
    "collapsed": true
   },
   "outputs": [],
   "source": []
  }
 ],
 "metadata": {
  "kernelspec": {
   "display_name": "Python 3",
   "language": "python",
   "name": "python3"
  },
  "language_info": {
   "codemirror_mode": {
    "name": "ipython",
    "version": 3
   },
   "file_extension": ".py",
   "mimetype": "text/x-python",
   "name": "python",
   "nbconvert_exporter": "python",
   "pygments_lexer": "ipython3",
   "version": "3.6.1"
  }
 },
 "nbformat": 4,
 "nbformat_minor": 2
}
